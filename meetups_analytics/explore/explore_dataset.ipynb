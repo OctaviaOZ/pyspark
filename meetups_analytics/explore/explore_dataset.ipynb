{
 "cells": [
  {
   "cell_type": "code",
   "execution_count": 1,
   "metadata": {},
   "outputs": [],
   "source": [
    "from pyspark.sql import functions as F\n",
    "from pyspark.sql.functions import count, countDistinct, window\n",
    "from pyspark.sql.functions import explode\n",
    "from pyspark.ml.feature import Tokenizer, HashingTF, IDF\n",
    "from pyspark.sql.functions import col\n",
    "from pyspark.sql.types import FloatType\n",
    "from pyspark.ml.feature import Word2Vec\n",
    "from pyspark.sql.functions import col\n",
    "from pyspark.sql.types import FloatType\n",
    "from pyspark.sql.functions import udf"
   ]
  },
  {
   "cell_type": "code",
   "execution_count": 2,
   "metadata": {},
   "outputs": [],
   "source": [
    "from pyspark.sql import SparkSession\n",
    "spark = SparkSession.builder.appName(\"TrendingTopicsAnalyzer\").getOrCreate()\n",
    "    \n",
    "json_file_path = 'meetups.json' \n",
    "raw_data = spark.read.option(\"mode\", \"DROPMALFORMED\").json(\"meetups.json\")"
   ]
  },
  {
   "cell_type": "code",
   "execution_count": 3,
   "metadata": {},
   "outputs": [
    {
     "name": "stdout",
     "output_type": "stream",
     "text": [
      "+-------+-------------------+--------------------+--------+--------------------+----------+\n",
      "|summary|             guests|               mtime|response|             rsvp_id|visibility|\n",
      "+-------+-------------------+--------------------+--------+--------------------+----------+\n",
      "|  count|               1541|                1541|    1541|                1541|      1541|\n",
      "|   mean|0.09669046073977937|1.489917271091866...|    null|1.6584449021161582E9|      null|\n",
      "| stddev| 0.5275483121532059|1.4369827182243446E8|    null|    2366166.37002244|      null|\n",
      "|    min|                  0|       1486669182000|      no|          1591862143|    public|\n",
      "|    max|                 10|       1489926608318|     yes|          1658878916|    public|\n",
      "+-------+-------------------+--------------------+--------+--------------------+----------+\n",
      "\n"
     ]
    }
   ],
   "source": [
    "raw_data.describe().show()"
   ]
  },
  {
   "cell_type": "code",
   "execution_count": 4,
   "metadata": {},
   "outputs": [
    {
     "name": "stdout",
     "output_type": "stream",
     "text": [
      "root\n",
      " |-- event: struct (nullable = true)\n",
      " |    |-- event_id: string (nullable = true)\n",
      " |    |-- event_name: string (nullable = true)\n",
      " |    |-- event_url: string (nullable = true)\n",
      " |    |-- time: long (nullable = true)\n",
      " |-- group: struct (nullable = true)\n",
      " |    |-- group_city: string (nullable = true)\n",
      " |    |-- group_country: string (nullable = true)\n",
      " |    |-- group_id: long (nullable = true)\n",
      " |    |-- group_lat: double (nullable = true)\n",
      " |    |-- group_lon: double (nullable = true)\n",
      " |    |-- group_name: string (nullable = true)\n",
      " |    |-- group_state: string (nullable = true)\n",
      " |    |-- group_topics: array (nullable = true)\n",
      " |    |    |-- element: struct (containsNull = true)\n",
      " |    |    |    |-- topic_name: string (nullable = true)\n",
      " |    |    |    |-- urlkey: string (nullable = true)\n",
      " |    |-- group_urlname: string (nullable = true)\n",
      " |-- guests: long (nullable = true)\n",
      " |-- member: struct (nullable = true)\n",
      " |    |-- member_id: long (nullable = true)\n",
      " |    |-- member_name: string (nullable = true)\n",
      " |    |-- other_services: struct (nullable = true)\n",
      " |    |    |-- facebook: struct (nullable = true)\n",
      " |    |    |    |-- identifier: string (nullable = true)\n",
      " |    |    |-- flickr: struct (nullable = true)\n",
      " |    |    |    |-- identifier: string (nullable = true)\n",
      " |    |    |-- linkedin: struct (nullable = true)\n",
      " |    |    |    |-- identifier: string (nullable = true)\n",
      " |    |    |-- tumblr: struct (nullable = true)\n",
      " |    |    |    |-- identifier: string (nullable = true)\n",
      " |    |    |-- twitter: struct (nullable = true)\n",
      " |    |    |    |-- identifier: string (nullable = true)\n",
      " |    |-- photo: string (nullable = true)\n",
      " |-- mtime: long (nullable = true)\n",
      " |-- response: string (nullable = true)\n",
      " |-- rsvp_id: long (nullable = true)\n",
      " |-- venue: struct (nullable = true)\n",
      " |    |-- lat: double (nullable = true)\n",
      " |    |-- lon: double (nullable = true)\n",
      " |    |-- venue_id: long (nullable = true)\n",
      " |    |-- venue_name: string (nullable = true)\n",
      " |-- visibility: string (nullable = true)\n",
      "\n"
     ]
    }
   ],
   "source": [
    "raw_data.printSchema()"
   ]
  },
  {
   "cell_type": "code",
   "execution_count": 5,
   "metadata": {},
   "outputs": [
    {
     "name": "stdout",
     "output_type": "stream",
     "text": [
      "+--------+-----+\n",
      "|response|count|\n",
      "+--------+-----+\n",
      "|      no|  414|\n",
      "|     yes| 1127|\n",
      "+--------+-----+\n",
      "\n"
     ]
    }
   ],
   "source": [
    "# Count the number of occurrences of each response\n",
    "response_counts = raw_data.groupBy(\"response\").count()\n",
    "\n",
    "# Show the counts\n",
    "response_counts.show()"
   ]
  },
  {
   "cell_type": "code",
   "execution_count": 6,
   "metadata": {},
   "outputs": [],
   "source": [
    "parsed_data = raw_data.filter(raw_data.response == 'yes').select(\"group.group_topics.topic_name\", \"mtime\", \"group.group_city\", \"group.group_country\", \"group.group_id\", \"event.event_id\", \"event.event_name\")"
   ]
  },
  {
   "cell_type": "code",
   "execution_count": 72,
   "metadata": {},
   "outputs": [
    {
     "name": "stdout",
     "output_type": "stream",
     "text": [
      "+--------------------+--------------------+------+--------------------+-------------+--------+----------+--------------------+----------+\n",
      "|               event|               group|guests|              member|        mtime|response|   rsvp_id|               venue|visibility|\n",
      "+--------------------+--------------------+------+--------------------+-------------+--------+----------+--------------------+----------+\n",
      "|{jkpwmlywgbmb, Pl...|{Taipei, tw, 1658...|     0|{120119272, Allen...|1489925470960|      no|1658733801|{0.0, 0.0, 237797...|    public|\n",
      "|{hvkmsmywfbhc, Ne...|{Taipei, tw, 1874...|     0|{221379606, Benit...|1489925471668|      no|1658877353|{25.052959, 121.5...|    public|\n",
      "|{236222256, Meet ...|{Hackensack, us, ...|     0|{44748032, Valeri...|1489925472035|     yes|1658877355|{0.0, 0.0, 249450...|    public|\n",
      "|{zblmsmywfbzb, Po...|{London, gb, 2015...|     0|{198145818, zhuch...|1489925473108|      no|1658519661|{51.564991, -0.18...|    public|\n",
      "|{trgqlmywfbzb, Fr...|{London, gb, 2000...|     0|{45463962, alice,...|1489925473189|     yes|1658877358|                null|    public|\n",
      "+--------------------+--------------------+------+--------------------+-------------+--------+----------+--------------------+----------+\n",
      "only showing top 5 rows\n",
      "\n"
     ]
    }
   ],
   "source": [
    "raw_data.to"
   ]
  },
  {
   "cell_type": "code",
   "execution_count": null,
   "metadata": {},
   "outputs": [],
   "source": []
  },
  {
   "cell_type": "code",
   "execution_count": 7,
   "metadata": {},
   "outputs": [
    {
     "name": "stdout",
     "output_type": "stream",
     "text": [
      "root\n",
      " |-- topic_name: array (nullable = true)\n",
      " |    |-- element: string (containsNull = true)\n",
      " |-- mtime: long (nullable = true)\n",
      " |-- group_city: string (nullable = true)\n",
      " |-- group_country: string (nullable = true)\n",
      " |-- group_id: long (nullable = true)\n",
      " |-- event_id: string (nullable = true)\n",
      " |-- event_name: string (nullable = true)\n",
      "\n"
     ]
    }
   ],
   "source": [
    "parsed_data.printSchema()"
   ]
  },
  {
   "cell_type": "code",
   "execution_count": 8,
   "metadata": {},
   "outputs": [
    {
     "name": "stdout",
     "output_type": "stream",
     "text": [
      "+--------------------+-------------+----------+-------------+--------+------------+--------------------+\n",
      "|          topic_name|        mtime|group_city|group_country|group_id|    event_id|          event_name|\n",
      "+--------------------+-------------+----------+-------------+--------+------------+--------------------+\n",
      "|[Wine, Hiking, Di...|1489925472035|Hackensack|           us|17370312|   236222256|Meet & Greet Iceb...|\n",
      "|[French Language ...|1489925473189|    London|           gb|20006170|trgqlmywfbzb|French Language &...|\n",
      "|[BBQ, English as ...|1489925474149|     Tokyo|           jp|18663131|   238532428|Fun Cooking and C...|\n",
      "|[orchestra, Flute...|1489925475416|    London|           gb|20325660|   238532429|The Wish List (So...|\n",
      "|[Wine, Hiking, Di...|1489925472000|Hackensack|           us|17370312|   236222256|Meet & Greet Iceb...|\n",
      "+--------------------+-------------+----------+-------------+--------+------------+--------------------+\n",
      "only showing top 5 rows\n",
      "\n"
     ]
    }
   ],
   "source": [
    "parsed_data.show(5)"
   ]
  },
  {
   "cell_type": "code",
   "execution_count": 9,
   "metadata": {},
   "outputs": [],
   "source": [
    "# Count the total number of event_id entries\n",
    "total_count = parsed_data.select(count(\"event_id\")).first()[0]\n",
    "\n",
    "# Count the number of distinct event_id entries\n",
    "distinct_count = parsed_data.select(countDistinct(\"event_id\")).first()[0]"
   ]
  },
  {
   "cell_type": "code",
   "execution_count": 10,
   "metadata": {},
   "outputs": [
    {
     "data": {
      "text/plain": [
       "(1127, 827)"
      ]
     },
     "execution_count": 10,
     "metadata": {},
     "output_type": "execute_result"
    }
   ],
   "source": [
    "total_count, distinct_count"
   ]
  },
  {
   "cell_type": "code",
   "execution_count": 11,
   "metadata": {},
   "outputs": [
    {
     "name": "stdout",
     "output_type": "stream",
     "text": [
      "+--------------------+-------------+-------------+-------------+--------+------------+--------------------+-----+\n",
      "|          topic_name|        mtime|   group_city|group_country|group_id|    event_id|          event_name|count|\n",
      "+--------------------+-------------+-------------+-------------+--------+------------+--------------------+-----+\n",
      "|[A Cappella, Musi...|1489926483000|Saint Charles|           us|13907892|dffhmlywfbcc|Sing a cappella h...|    3|\n",
      "|[New In Town, Ita...|1489925674000|    Barcelona|           es|18453452|ppghmmywfbbc|Handmade PASTA-LA...|    2|\n",
      "|[Toastmasters, Pu...|1489590754000|  Stittsville|           ca|20120973|wqjqvlywfbdc|Lets get together...|    3|\n",
      "|[Dining Out, Nigh...|1489926316000|      Buffalo|           us|20072809|sbxssmywfbmc|Hit some balls to...|    2|\n",
      "+--------------------+-------------+-------------+-------------+--------+------------+--------------------+-----+\n",
      "\n"
     ]
    }
   ],
   "source": [
    "# Count the number of occurrences of each row\n",
    "counts = parsed_data.groupBy(parsed_data.columns).count()\n",
    "\n",
    "# Keep only the rows that occur more than once\n",
    "duplicates = counts.filter(counts['count'] > 1)\n",
    "\n",
    "# Show the duplicates\n",
    "duplicates.show(5)"
   ]
  },
  {
   "cell_type": "code",
   "execution_count": 12,
   "metadata": {},
   "outputs": [
    {
     "name": "stdout",
     "output_type": "stream",
     "text": [
      "+--------------------+-------------+----------+-------------+--------+------------+--------------------+-------------------+\n",
      "|          topic_name|        mtime|group_city|group_country|group_id|    event_id|          event_name|          timestamp|\n",
      "+--------------------+-------------+----------+-------------+--------+------------+--------------------+-------------------+\n",
      "|[Wine, Hiking, Di...|1489925472035|Hackensack|           us|17370312|   236222256|Meet & Greet Iceb...|2017-03-19 13:11:12|\n",
      "|[French Language ...|1489925473189|    London|           gb|20006170|trgqlmywfbzb|French Language &...|2017-03-19 13:11:13|\n",
      "|[BBQ, English as ...|1489925474149|     Tokyo|           jp|18663131|   238532428|Fun Cooking and C...|2017-03-19 13:11:14|\n",
      "|[orchestra, Flute...|1489925475416|    London|           gb|20325660|   238532429|The Wish List (So...|2017-03-19 13:11:15|\n",
      "|[Wine, Hiking, Di...|1489925472000|Hackensack|           us|17370312|   236222256|Meet & Greet Iceb...|2017-03-19 13:11:12|\n",
      "+--------------------+-------------+----------+-------------+--------+------------+--------------------+-------------------+\n",
      "only showing top 5 rows\n",
      "\n"
     ]
    }
   ],
   "source": [
    "# Convert the 'mtime' field to a date\n",
    "parsed_data = parsed_data.withColumn('timestamp', F.from_unixtime(col('mtime') / 1000).cast('timestamp'))\n",
    "\n",
    "# Show the DataFrame\n",
    "parsed_data.show(5)"
   ]
  },
  {
   "cell_type": "code",
   "execution_count": 13,
   "metadata": {},
   "outputs": [
    {
     "name": "stdout",
     "output_type": "stream",
     "text": [
      "The event_id with the most rows is: 238532425\n"
     ]
    }
   ],
   "source": [
    "# Group by event_id and count the number of rows\n",
    "event_counts = parsed_data.groupBy(\"event_id\").count()\n",
    "\n",
    "# Order by count in descending order and get the first row\n",
    "top_event = event_counts.orderBy(F.desc(\"count\")).first()\n",
    "\n",
    "# Print the event_id with the most rows\n",
    "print(f\"The event_id with the most rows is: {top_event['event_id']}\")"
   ]
  },
  {
   "cell_type": "code",
   "execution_count": 14,
   "metadata": {},
   "outputs": [
    {
     "name": "stdout",
     "output_type": "stream",
     "text": [
      "+--------------------+-------------+----------+-------------+--------+---------+--------------------+-------------------+\n",
      "|          topic_name|        mtime|group_city|group_country|group_id| event_id|          event_name|          timestamp|\n",
      "+--------------------+-------------+----------+-------------+--------+---------+--------------------+-------------------+\n",
      "|[Software Develop...|1489925525826| Liverpool|           gb|19799021|238532425|promoting local t...|2017-03-19 13:12:05|\n",
      "|[Software Develop...|1489925568005| Liverpool|           gb|19799021|238532425|promoting local t...|2017-03-19 13:12:48|\n",
      "|[Software Develop...|1489925568000| Liverpool|           gb|19799021|238532425|promoting local t...|2017-03-19 13:12:48|\n",
      "|[Software Develop...|1489925744222| Liverpool|           gb|19799021|238532425|promoting local t...|2017-03-19 13:15:44|\n",
      "|[Software Develop...|1489925887756| Liverpool|           gb|19799021|238532425|promoting local t...|2017-03-19 13:18:07|\n",
      "|[Software Develop...|1489926001174| Liverpool|           gb|19799021|238532425|promoting local t...|2017-03-19 13:20:01|\n",
      "|[Software Develop...|1489926488479| Liverpool|           gb|19799021|238532425|promoting local t...|2017-03-19 13:28:08|\n",
      "+--------------------+-------------+----------+-------------+--------+---------+--------------------+-------------------+\n",
      "\n"
     ]
    }
   ],
   "source": [
    "filtered_data = parsed_data.filter(parsed_data.event_id == '238532425')\n",
    "\n",
    "# Show the filtered DataFrame\n",
    "filtered_data.show()"
   ]
  },
  {
   "cell_type": "code",
   "execution_count": 15,
   "metadata": {},
   "outputs": [],
   "source": [
    "# Create a new DataFrame with \"topic\" and \"event_name\" columns\n",
    "exploded_topics = parsed_data.select(explode(parsed_data.topic_name).alias(\"topic\"), \"event_name\", \"event_id\")"
   ]
  },
  {
   "cell_type": "code",
   "execution_count": 16,
   "metadata": {},
   "outputs": [
    {
     "data": {
      "text/plain": [
       "12597"
      ]
     },
     "execution_count": 16,
     "metadata": {},
     "output_type": "execute_result"
    }
   ],
   "source": [
    "exploded_topics.count()"
   ]
  },
  {
   "cell_type": "code",
   "execution_count": 17,
   "metadata": {},
   "outputs": [],
   "source": [
    "# Remove duplicates\n",
    "exploded_topics = exploded_topics.dropDuplicates([\"topic\", \"event_name\", \"event_id\"])"
   ]
  },
  {
   "cell_type": "code",
   "execution_count": 18,
   "metadata": {},
   "outputs": [
    {
     "data": {
      "text/plain": [
       "9319"
      ]
     },
     "execution_count": 18,
     "metadata": {},
     "output_type": "execute_result"
    }
   ],
   "source": [
    "exploded_topics.count()"
   ]
  },
  {
   "cell_type": "code",
   "execution_count": 19,
   "metadata": {},
   "outputs": [
    {
     "name": "stdout",
     "output_type": "stream",
     "text": [
      "+--------------------+--------------------+------------+\n",
      "|               topic|          event_name|    event_id|\n",
      "+--------------------+--------------------+------------+\n",
      "| Product Development|       Hack 'n' Talk|tlnqtlywgbhb|\n",
      "|  Role-Playing Games|Wednesday Board G...|rskwtlywfbdc|\n",
      "|      Data Analytics|Forecasting Ebola...|   238449814|\n",
      "|    Online Marketing|Lancer un busines...|   238384040|\n",
      "|      British Movies|Lunch at Sabai Sa...|   238528934|\n",
      "|        Conversation|לנקות את הצלחת - ...|   238532456|\n",
      "|Microsoft Windows...|Akademia C# Spotk...|   238532008|\n",
      "|          Percussion|How Sweet It Is -...|   238532473|\n",
      "|       Female Bikers|Dinner Meet & Gre...|   238508979|\n",
      "|Sports and Recrea...|    BOARD GAME NIGHT|   238488378|\n",
      "|         Songwriting|meet up and discu...|sxxzhlywfbgc|\n",
      "|   Social Networking|Fun Cooking and C...|   238532494|\n",
      "|   Social Networking|Bollywood night!!...|   238341314|\n",
      "|          Dining Out|  Vegan Street Faire|   238224352|\n",
      "|       Racket Sports|Tuesday Intermedi...|   238420960|\n",
      "+--------------------+--------------------+------------+\n",
      "only showing top 15 rows\n",
      "\n"
     ]
    }
   ],
   "source": [
    "# Show the DataFrame\n",
    "exploded_topics.show(15)"
   ]
  },
  {
   "cell_type": "code",
   "execution_count": 20,
   "metadata": {},
   "outputs": [
    {
     "data": {
      "text/plain": [
       "9319"
      ]
     },
     "execution_count": 20,
     "metadata": {},
     "output_type": "execute_result"
    }
   ],
   "source": [
    "exploded_topics.count()"
   ]
  },
  {
   "cell_type": "code",
   "execution_count": 21,
   "metadata": {},
   "outputs": [],
   "source": [
    "# Tokenize the event_name and topic columns\n",
    "event_tokenizer = Tokenizer(inputCol=\"event_name\", outputCol=\"event_words\")\n",
    "topic_tokenizer = Tokenizer(inputCol=\"topic\", outputCol=\"topic_words\")\n",
    "\n",
    "wordsData = event_tokenizer.transform(exploded_topics)\n",
    "wordsData = topic_tokenizer.transform(wordsData)"
   ]
  },
  {
   "cell_type": "code",
   "execution_count": 22,
   "metadata": {},
   "outputs": [
    {
     "data": {
      "text/plain": [
       "9319"
      ]
     },
     "execution_count": 22,
     "metadata": {},
     "output_type": "execute_result"
    }
   ],
   "source": [
    "wordsData.count()"
   ]
  },
  {
   "cell_type": "code",
   "execution_count": 23,
   "metadata": {},
   "outputs": [
    {
     "name": "stdout",
     "output_type": "stream",
     "text": [
      "+--------------------+--------------------+------------+--------------------+--------------------+\n",
      "|               topic|          event_name|    event_id|         event_words|         topic_words|\n",
      "+--------------------+--------------------+------------+--------------------+--------------------+\n",
      "| Product Development|       Hack 'n' Talk|tlnqtlywgbhb|   [hack, 'n', talk]|[product, develop...|\n",
      "|  Role-Playing Games|Wednesday Board G...|rskwtlywfbdc|[wednesday, board...|[role-playing, ga...|\n",
      "|      Data Analytics|Forecasting Ebola...|   238449814|[forecasting, ebo...|   [data, analytics]|\n",
      "|    Online Marketing|Lancer un busines...|   238384040|[lancer, un, busi...| [online, marketing]|\n",
      "|      British Movies|Lunch at Sabai Sa...|   238528934|[lunch, at, sabai...|   [british, movies]|\n",
      "|        Conversation|לנקות את הצלחת - ...|   238532456|[לנקות, את, הצלחת...|      [conversation]|\n",
      "|Microsoft Windows...|Akademia C# Spotk...|   238532008|[akademia, c#, sp...|[microsoft, windo...|\n",
      "|          Percussion|How Sweet It Is -...|   238532473|[how, sweet, it, ...|        [percussion]|\n",
      "|       Female Bikers|Dinner Meet & Gre...|   238508979|[dinner, meet, &,...|    [female, bikers]|\n",
      "|Sports and Recrea...|    BOARD GAME NIGHT|   238488378|[board, game, night]|[sports, and, rec...|\n",
      "|         Songwriting|meet up and discu...|sxxzhlywfbgc|[meet, up, and, d...|       [songwriting]|\n",
      "|   Social Networking|Fun Cooking and C...|   238532494|[fun, cooking, an...|[social, networking]|\n",
      "|   Social Networking|Bollywood night!!...|   238341314|[bollywood, night...|[social, networking]|\n",
      "|          Dining Out|  Vegan Street Faire|   238224352|[vegan, street, f...|       [dining, out]|\n",
      "|       Racket Sports|Tuesday Intermedi...|   238420960|[tuesday, interme...|    [racket, sports]|\n",
      "|           Adventure|Rockville Earth T...|wplsllywfbzb|[rockville, earth...|         [adventure]|\n",
      "|            Outdoors|Carolina Beach Ca...|   237138989|[carolina, beach,...|          [outdoors]|\n",
      "|               Games|SPECIAL EVENT: Ca...|kczrgmywfbhc|[special, event:,...|             [games]|\n",
      "|        Free thinker|Central London Hu...|cbdlgmywfbjc|[central, london,...|     [free, thinker]|\n",
      "|                Yoga|           Gong Bath|tjtnmmywfbzb|        [gong, bath]|              [yoga]|\n",
      "+--------------------+--------------------+------------+--------------------+--------------------+\n",
      "only showing top 20 rows\n",
      "\n"
     ]
    }
   ],
   "source": [
    "wordsData.show()"
   ]
  },
  {
   "cell_type": "code",
   "execution_count": 24,
   "metadata": {},
   "outputs": [],
   "source": [
    "# Hash the words to a fixed length feature vector\n",
    "event_hashingTF = HashingTF(inputCol=\"event_words\", outputCol=\"event_rawFeatures\")\n",
    "topic_hashingTF = HashingTF(inputCol=\"topic_words\", outputCol=\"topic_rawFeatures\")\n",
    "\n",
    "featurizedData = event_hashingTF.transform(wordsData)\n",
    "featurizedData = topic_hashingTF.transform(featurizedData)\n",
    "\n",
    "# Rescale the feature vectors\n",
    "event_idf = IDF(inputCol=\"event_rawFeatures\", outputCol=\"event_features\")\n",
    "topic_idf = IDF(inputCol=\"topic_rawFeatures\", outputCol=\"topic_features\")\n",
    "\n",
    "event_idfModel = event_idf.fit(featurizedData)\n",
    "rescaledData = event_idfModel.transform(featurizedData)\n",
    "\n",
    "topic_idfModel = topic_idf.fit(rescaledData)\n",
    "rescaledData = topic_idfModel.transform(rescaledData)"
   ]
  },
  {
   "cell_type": "code",
   "execution_count": 25,
   "metadata": {},
   "outputs": [
    {
     "data": {
      "text/plain": [
       "9319"
      ]
     },
     "execution_count": 25,
     "metadata": {},
     "output_type": "execute_result"
    }
   ],
   "source": [
    "rescaledData.count()"
   ]
  },
  {
   "cell_type": "code",
   "execution_count": 26,
   "metadata": {},
   "outputs": [
    {
     "name": "stdout",
     "output_type": "stream",
     "text": [
      "+--------------------+--------------------+------------+--------------------+--------------------+--------------------+--------------------+--------------------+--------------------+\n",
      "|               topic|          event_name|    event_id|         event_words|         topic_words|   event_rawFeatures|   topic_rawFeatures|      event_features|      topic_features|\n",
      "+--------------------+--------------------+------------+--------------------+--------------------+--------------------+--------------------+--------------------+--------------------+\n",
      "| Product Development|       Hack 'n' Talk|tlnqtlywgbhb|   [hack, 'n', talk]|[product, develop...|(262144,[17587,70...|(262144,[52879,19...|(262144,[17587,70...|(262144,[52879,19...|\n",
      "|  Role-Playing Games|Wednesday Board G...|rskwtlywfbdc|[wednesday, board...|[role-playing, ga...|(262144,[169300,1...|(262144,[104739,1...|(262144,[169300,1...|(262144,[104739,1...|\n",
      "|      Data Analytics|Forecasting Ebola...|   238449814|[forecasting, ebo...|   [data, analytics]|(262144,[51144,13...|(262144,[22732,16...|(262144,[51144,13...|(262144,[22732,16...|\n",
      "|    Online Marketing|Lancer un busines...|   238384040|[lancer, un, busi...| [online, marketing]|(262144,[20785,33...|(262144,[50671,25...|(262144,[20785,33...|(262144,[50671,25...|\n",
      "|      British Movies|Lunch at Sabai Sa...|   238528934|[lunch, at, sabai...|   [british, movies]|(262144,[2792,855...|(262144,[216618,2...|(262144,[2792,855...|(262144,[216618,2...|\n",
      "|        Conversation|לנקות את הצלחת - ...|   238532456|[לנקות, את, הצלחת...|      [conversation]|(262144,[35768,38...|(262144,[58329],[...|(262144,[35768,38...|(262144,[58329],[...|\n",
      "|Microsoft Windows...|Akademia C# Spotk...|   238532008|[akademia, c#, sp...|[microsoft, windo...|(262144,[38640,43...|(262144,[138839,1...|(262144,[38640,43...|(262144,[138839,1...|\n",
      "|          Percussion|How Sweet It Is -...|   238532473|[how, sweet, it, ...|        [percussion]|(262144,[9722,309...|(262144,[39447],[...|(262144,[9722,309...|(262144,[39447],[...|\n",
      "|       Female Bikers|Dinner Meet & Gre...|   238508979|[dinner, meet, &,...|    [female, bikers]|(262144,[51144,66...|(262144,[29087,42...|(262144,[51144,66...|(262144,[29087,42...|\n",
      "|Sports and Recrea...|    BOARD GAME NIGHT|   238488378|[board, game, night]|[sports, and, rec...|(262144,[138895,1...|(262144,[76489,11...|(262144,[138895,1...|(262144,[76489,11...|\n",
      "|         Songwriting|meet up and discu...|sxxzhlywfbgc|[meet, up, and, d...|       [songwriting]|(262144,[20606,65...|(262144,[27165],[...|(262144,[20606,65...|(262144,[27165],[...|\n",
      "|   Social Networking|Fun Cooking and C...|   238532494|[fun, cooking, an...|[social, networking]|(262144,[5142,190...|(262144,[23190,71...|(262144,[5142,190...|(262144,[23190,71...|\n",
      "|   Social Networking|Bollywood night!!...|   238341314|[bollywood, night...|[social, networking]|(262144,[12524,32...|(262144,[23190,71...|(262144,[12524,32...|(262144,[23190,71...|\n",
      "|          Dining Out|  Vegan Street Faire|   238224352|[vegan, street, f...|       [dining, out]|(262144,[5142,640...|(262144,[176950,1...|(262144,[5142,640...|(262144,[176950,1...|\n",
      "|       Racket Sports|Tuesday Intermedi...|   238420960|[tuesday, interme...|    [racket, sports]|(262144,[4106,451...|(262144,[17414,76...|(262144,[4106,451...|(262144,[17414,76...|\n",
      "|           Adventure|Rockville Earth T...|wplsllywfbzb|[rockville, earth...|         [adventure]|(262144,[28486,67...|(262144,[219377],...|(262144,[28486,67...|(262144,[219377],...|\n",
      "|            Outdoors|Carolina Beach Ca...|   237138989|[carolina, beach,...|          [outdoors]|(262144,[34465,71...|(262144,[149118],...|(262144,[34465,71...|(262144,[149118],...|\n",
      "|               Games|SPECIAL EVENT: Ca...|kczrgmywfbhc|[special, event:,...|             [games]|(262144,[12609,20...|(262144,[169300],...|(262144,[12609,20...|(262144,[169300],...|\n",
      "|        Free thinker|Central London Hu...|cbdlgmywfbjc|[central, london,...|     [free, thinker]|(262144,[39504,14...|(262144,[73483,23...|(262144,[39504,14...|(262144,[73483,23...|\n",
      "|                Yoga|           Gong Bath|tjtnmmywfbzb|        [gong, bath]|              [yoga]|(262144,[50414,13...|(262144,[149661],...|(262144,[50414,13...|(262144,[149661],...|\n",
      "+--------------------+--------------------+------------+--------------------+--------------------+--------------------+--------------------+--------------------+--------------------+\n",
      "only showing top 20 rows\n",
      "\n"
     ]
    }
   ],
   "source": [
    "rescaledData.show()"
   ]
  },
  {
   "cell_type": "code",
   "execution_count": 27,
   "metadata": {},
   "outputs": [
    {
     "name": "stdout",
     "output_type": "stream",
     "text": [
      "+--------------------+--------------------+----------+\n",
      "|          event_name|               topic|similarity|\n",
      "+--------------------+--------------------+----------+\n",
      "|       Hack 'n' Talk| Product Development|       0.0|\n",
      "|Wednesday Board G...|  Role-Playing Games|0.23263572|\n",
      "|Forecasting Ebola...|      Data Analytics|       0.0|\n",
      "|Lancer un busines...|    Online Marketing|       0.0|\n",
      "|Lunch at Sabai Sa...|      British Movies|       0.0|\n",
      "|לנקות את הצלחת - ...|        Conversation|       0.0|\n",
      "|Akademia C# Spotk...|Microsoft Windows...|       0.0|\n",
      "|How Sweet It Is -...|          Percussion|       0.0|\n",
      "|Dinner Meet & Gre...|       Female Bikers|       0.0|\n",
      "|    BOARD GAME NIGHT|Sports and Recrea...|       0.0|\n",
      "|meet up and discu...|         Songwriting|       0.0|\n",
      "|Fun Cooking and C...|   Social Networking|       0.0|\n",
      "|Bollywood night!!...|   Social Networking|       0.0|\n",
      "|  Vegan Street Faire|          Dining Out|       0.0|\n",
      "|Tuesday Intermedi...|       Racket Sports|       0.0|\n",
      "|Rockville Earth T...|           Adventure|       0.0|\n",
      "|Carolina Beach Ca...|            Outdoors|       0.0|\n",
      "|SPECIAL EVENT: Ca...|               Games|       0.0|\n",
      "|Central London Hu...|        Free thinker|       0.0|\n",
      "|           Gong Bath|                Yoga|       0.0|\n",
      "+--------------------+--------------------+----------+\n",
      "only showing top 20 rows\n",
      "\n"
     ]
    }
   ],
   "source": [
    "# Define a UDF to compute cosine similarity\n",
    "def cosine_similarity(a, b):\n",
    "    return float(a.dot(b) / (a.norm(2) * b.norm(2)))\n",
    "\n",
    "cosine_similarity_udf = F.udf(cosine_similarity, FloatType())\n",
    "\n",
    "# Compute cosine similarity between event_name and topic vectors\n",
    "result = rescaledData.withColumn(\"similarity\", cosine_similarity_udf(col(\"event_features\"), col(\"topic_features\")))\n",
    "\n",
    "# Show the DataFrame\n",
    "result.select(\"event_name\", \"topic\", \"similarity\").show()"
   ]
  },
  {
   "cell_type": "markdown",
   "metadata": {},
   "source": [
    "i see poor result of algoritm. for example I see topic \" Data Analytics\" and the word in event_name \"Forecasting\" and similarity is 0.0. It's wrong. \n",
    "I think that the problem is in the algorithm. I need to use another algorithm."
   ]
  },
  {
   "cell_type": "code",
   "execution_count": 28,
   "metadata": {},
   "outputs": [
    {
     "data": {
      "text/plain": [
       "['topic',\n",
       " 'event_name',\n",
       " 'event_id',\n",
       " 'event_words',\n",
       " 'topic_words',\n",
       " 'event_rawFeatures',\n",
       " 'topic_rawFeatures',\n",
       " 'event_features',\n",
       " 'topic_features',\n",
       " 'similarity']"
      ]
     },
     "execution_count": 28,
     "metadata": {},
     "output_type": "execute_result"
    }
   ],
   "source": [
    "result.columns"
   ]
  },
  {
   "cell_type": "code",
   "execution_count": 29,
   "metadata": {},
   "outputs": [],
   "source": [
    "# Remove redundant columns\n",
    "result = result.drop('event_words',\n",
    "'event_name',                     \n",
    " 'topic_words',\n",
    " 'event_rawFeatures',\n",
    " 'topic_rawFeatures',\n",
    " 'event_features',\n",
    " 'topic_features')\n",
    "\n",
    "# Remove rows with 0.0 similarity\n",
    "result = result.filter(result.similarity != 0.0)"
   ]
  },
  {
   "cell_type": "code",
   "execution_count": 30,
   "metadata": {},
   "outputs": [
    {
     "data": {
      "text/plain": [
       "1004"
      ]
     },
     "execution_count": 30,
     "metadata": {},
     "output_type": "execute_result"
    }
   ],
   "source": [
    "result.count()"
   ]
  },
  {
   "cell_type": "code",
   "execution_count": 31,
   "metadata": {},
   "outputs": [],
   "source": [
    "from pyspark.sql.window import Window\n",
    "from pyspark.sql.functions import desc, row_number, col\n",
    "\n",
    "# Define a window partitioned by event_id, ordered by similarity\n",
    "window = Window.partitionBy(\"event_id\").orderBy(desc(\"similarity\"))\n",
    "\n",
    "# Add a row_number for each window\n",
    "result = result.withColumn(\"rn\", row_number().over(window))\n",
    "\n",
    "# Select the rows where rn is 1 (i.e., the rows with the highest similarity for each event_id)\n",
    "result = result.where(col(\"rn\") == 1)\n",
    "\n",
    "# Drop the rn column\n",
    "result = result.drop(\"rn\")"
   ]
  },
  {
   "cell_type": "code",
   "execution_count": 32,
   "metadata": {},
   "outputs": [
    {
     "name": "stdout",
     "output_type": "stream",
     "text": [
      "+--------------------+---------+-----------+\n",
      "|               topic| event_id| similarity|\n",
      "+--------------------+---------+-----------+\n",
      "|       Deep Learning|233440488| 0.44796947|\n",
      "|            Ethereum|234119236| 0.41926128|\n",
      "|    Books and Drinks|234829379| 0.25476298|\n",
      "|   Social Networking|235405145| 0.21779336|\n",
      "|           Book Club|235601721|  0.8386863|\n",
      "|   Social Networking|235968168| 0.21121848|\n",
      "|  20's & 30's Social|236090520|0.054174487|\n",
      "|         New In Town|236222256| 0.10347391|\n",
      "|     Virtual Reality|236266989| 0.34098482|\n",
      "|      Women Who Code|236574801| 0.72250307|\n",
      "|      Pranic Healing|236609658| 0.43017942|\n",
      "|              Hiking|236745952|  0.3568821|\n",
      "|   Business Strategy|236784423|  0.1643855|\n",
      "|        Apache Spark|237045601| 0.40298325|\n",
      "|             Camping|237138989| 0.47646442|\n",
      "|             Camping|237151476| 0.38219303|\n",
      "|             Camping|237151539| 0.38219303|\n",
      "|             Mapping|237158715|  0.5812929|\n",
      "|Learn to Ski or S...|237187978|0.077956505|\n",
      "|    Machine Learning|237211084|  0.6857949|\n",
      "+--------------------+---------+-----------+\n",
      "only showing top 20 rows\n",
      "\n"
     ]
    }
   ],
   "source": [
    "result.show()"
   ]
  },
  {
   "cell_type": "code",
   "execution_count": 33,
   "metadata": {},
   "outputs": [],
   "source": [
    "parsed_data = parsed_data.select([\"topic_name\", \"group_city\", \"group_country\",\"event_id\",\"timestamp\"]).dropDuplicates()"
   ]
  },
  {
   "cell_type": "code",
   "execution_count": 34,
   "metadata": {},
   "outputs": [
    {
     "name": "stdout",
     "output_type": "stream",
     "text": [
      "+--------------------+------------+-------------+------------+-------------------+\n",
      "|          topic_name|  group_city|group_country|    event_id|          timestamp|\n",
      "+--------------------+------------+-------------+------------+-------------------+\n",
      "|[Joss Whedon, Buf...|      Boston|           us|   237849018|2017-03-19 13:18:15|\n",
      "|[Business Strateg...|    New York|           us|sckdnmywfbgc|2017-03-19 13:18:56|\n",
      "|[Outdoors, Outdoo...|      London|           gb|   238379549|2017-03-19 13:23:35|\n",
      "|[20's & 30's Soci...|   Charlotte|           us|   237989253|2017-03-19 13:23:51|\n",
      "|[Makeup, Beauty I...|Falls Church|           us|   238044963|2017-03-19 13:25:39|\n",
      "|[Open Source, Pyt...|       Delhi|           in|nsnhsmywgbcb|2017-03-19 13:22:43|\n",
      "|[Network Marketin...|     Hamburg|           de|   238394135|2017-03-19 13:25:48|\n",
      "|[Fitness, Line Da...|Independence|           us|nqhrslywfbfc|2017-03-19 13:28:50|\n",
      "|[.NET, C#, Softwa...|      Warsaw|           pl|   238532008|2017-03-19 13:13:02|\n",
      "|[Running, Wellnes...|    Helsinki|           fi|nsdsslywfbdc|2017-03-19 13:14:06|\n",
      "|[Joss Whedon, Buf...|      Boston|           us|   238391780|2017-03-19 13:16:28|\n",
      "|[Yoga, Meditation...|      Lisbon|           pt|vxtjmmywfbbc|2017-03-19 13:22:54|\n",
      "|[Astronomy, Space...|        Oslo|           no|   238516558|2017-03-19 13:25:57|\n",
      "|[Wine, Walking, B...|  Charleston|           us|   235601721|2017-03-19 13:11:29|\n",
      "|[Expat British, E...|   Singapore|           sg|   238359098|2017-03-19 13:18:43|\n",
      "|[Seniors, Baby Bo...|    Bethesda|           us|   238152962|2017-03-19 13:25:01|\n",
      "|[Asian Profession...|    Shanghai|           cn|   238529934|2017-03-19 13:15:37|\n",
      "|[Social, Fun Time...|     München|           de|   238532269|2017-03-19 13:17:16|\n",
      "|[Christian Minist...|   Worcester|           us|   238396178|2017-03-19 13:18:09|\n",
      "|[Badminton, Sport...|     Bangkok|           th|bkjxjmywfbjc|2017-03-19 13:27:56|\n",
      "+--------------------+------------+-------------+------------+-------------------+\n",
      "only showing top 20 rows\n",
      "\n"
     ]
    }
   ],
   "source": [
    "parsed_data.show()"
   ]
  },
  {
   "cell_type": "code",
   "execution_count": 35,
   "metadata": {},
   "outputs": [],
   "source": [
    "matchted_data = parsed_data.join(result, [\"event_id\"], \"inner\")"
   ]
  },
  {
   "cell_type": "code",
   "execution_count": 36,
   "metadata": {},
   "outputs": [
    {
     "name": "stdout",
     "output_type": "stream",
     "text": [
      "+------------+--------------------+-------------+-------------+-------------------+--------------------+-----------+\n",
      "|    event_id|          topic_name|   group_city|group_country|          timestamp|               topic| similarity|\n",
      "+------------+--------------------+-------------+-------------+-------------------+--------------------+-----------+\n",
      "|   237849018|[Joss Whedon, Buf...|       Boston|           us|2017-03-19 13:18:15|           Book Club|  0.6419117|\n",
      "|   238379549|[Outdoors, Outdoo...|       London|           gb|2017-03-19 13:23:35|    Outdoor  Fitness| 0.21032564|\n",
      "|nqhrslywfbfc|[Fitness, Line Da...| Independence|           us|2017-03-19 13:28:50| Learn to Line Dance|   0.474158|\n",
      "|   238532008|[.NET, C#, Softwa...|       Warsaw|           pl|2017-03-19 13:13:02|                  C#| 0.38563585|\n",
      "|   238391780|[Joss Whedon, Buf...|       Boston|           us|2017-03-19 13:16:28|              Social|  0.5120712|\n",
      "|vxtjmmywfbbc|[Yoga, Meditation...|       Lisbon|           pt|2017-03-19 13:22:54|                Yoga| 0.43595055|\n",
      "|   235601721|[Wine, Walking, B...|   Charleston|           us|2017-03-19 13:11:29|           Book Club|  0.8386863|\n",
      "|   238529934|[Asian Profession...|     Shanghai|           cn|2017-03-19 13:15:37|International Fri...| 0.21924636|\n",
      "|   238299199|[Professional Dev...|       Boston|           us|2017-03-19 13:28:48|   Finding a New Job|0.074976064|\n",
      "|   238493372|[Linux, Cloud Com...|    Bucharest|           ro|2017-03-19 13:28:45|              Docker|  0.4267283|\n",
      "|kvqmpmywfbhc|[Social Networkin...|        Seoul|           kr|2017-03-19 13:14:05|         New In Town| 0.09307577|\n",
      "|   238095269|[Software Develop...|     Auckland|           nz|2017-03-19 13:19:39|Test Driven Devel...| 0.23981301|\n",
      "|sjbntmywgbgc|[Marketing, Netwo...|      Penrith|           au|2017-03-19 13:22:25|            Business| 0.33704203|\n",
      "|ltxrxlywfbcc|[Small Business, ...|    Charlotte|           us|2017-03-19 13:25:17|   Network Marketing|  0.6466094|\n",
      "|   236090520|[Intellectual Dis...|       London|           gb|2017-03-19 13:12:57|  20's & 30's Social|0.054174487|\n",
      "|ksbmtmywfbhc|[Fika, Conversati...|    Stockholm|           se|2017-03-19 13:22:07|                Fika|  0.5804698|\n",
      "|dffhmlywfbcc|[A Cappella, Musi...|Saint Charles|           us|2017-03-19 13:28:02|          A Cappella|  0.5411776|\n",
      "|   238024832|[Italian Language...|    Cambridge|           gb|2017-03-19 13:12:29|    Italian Language| 0.28323427|\n",
      "|   238532461|[orchestra, Flute...|       London|           gb|2017-03-19 13:13:25|          Soul Music| 0.14397936|\n",
      "|   238052401|[Python, Agile pr...|    Bangalore|           in|2017-03-19 13:21:20|              Python| 0.51109135|\n",
      "+------------+--------------------+-------------+-------------+-------------------+--------------------+-----------+\n",
      "only showing top 20 rows\n",
      "\n"
     ]
    }
   ],
   "source": [
    "matchted_data.show()"
   ]
  },
  {
   "cell_type": "code",
   "execution_count": 37,
   "metadata": {},
   "outputs": [],
   "source": [
    "# Drop rows from parsed_data where event_id is not in result\n",
    "not_matchted_data = parsed_data.join(result, [\"event_id\"], \"left_anti\")"
   ]
  },
  {
   "cell_type": "code",
   "execution_count": 38,
   "metadata": {},
   "outputs": [
    {
     "data": {
      "text/plain": [
       "(388, 463, 1011, 548)"
      ]
     },
     "execution_count": 38,
     "metadata": {},
     "output_type": "execute_result"
    }
   ],
   "source": [
    "result.count(), matchted_data.count(), parsed_data.count(), not_matchted_data.count()"
   ]
  },
  {
   "cell_type": "code",
   "execution_count": 39,
   "metadata": {},
   "outputs": [
    {
     "name": "stdout",
     "output_type": "stream",
     "text": [
      "+--------------------+--------------------+------------+\n",
      "|          event_name|               topic|  similarity|\n",
      "+--------------------+--------------------+------------+\n",
      "|       Hack 'n' Talk| Product Development| -0.15382715|\n",
      "|Wednesday Board G...|  Role-Playing Games|  -0.2427865|\n",
      "|Forecasting Ebola...|      Data Analytics| -0.07854042|\n",
      "|Lancer un busines...|    Online Marketing| -0.44964573|\n",
      "|Lunch at Sabai Sa...|      British Movies| -0.33558342|\n",
      "|לנקות את הצלחת - ...|        Conversation| -0.29763067|\n",
      "|Akademia C# Spotk...|Microsoft Windows...|  -0.4534469|\n",
      "|How Sweet It Is -...|          Percussion|  0.97047687|\n",
      "|Dinner Meet & Gre...|       Female Bikers|  0.52275676|\n",
      "|    BOARD GAME NIGHT|Sports and Recrea...|  -0.9237514|\n",
      "|meet up and discu...|         Songwriting|   0.6696389|\n",
      "|Fun Cooking and C...|   Social Networking|   0.8867227|\n",
      "|Bollywood night!!...|   Social Networking|  0.20406201|\n",
      "|  Vegan Street Faire|          Dining Out| -0.96862286|\n",
      "|Tuesday Intermedi...|       Racket Sports|  -0.3877435|\n",
      "|Rockville Earth T...|           Adventure|  -0.4861693|\n",
      "|Carolina Beach Ca...|            Outdoors|  0.28461155|\n",
      "|SPECIAL EVENT: Ca...|               Games|   0.5834391|\n",
      "|Central London Hu...|        Free thinker|-0.030990636|\n",
      "|           Gong Bath|                Yoga|  0.12145331|\n",
      "+--------------------+--------------------+------------+\n",
      "only showing top 20 rows\n",
      "\n"
     ]
    }
   ],
   "source": [
    "# Tokenize the event_name and topic columns\n",
    "event_tokenizer = Tokenizer(inputCol=\"event_name\", outputCol=\"event_words\")\n",
    "topic_tokenizer = Tokenizer(inputCol=\"topic\", outputCol=\"topic_words\")\n",
    "\n",
    "wordsData = event_tokenizer.transform(exploded_topics)\n",
    "wordsData = topic_tokenizer.transform(wordsData)\n",
    "\n",
    "# Train a Word2Vec model\n",
    "word2Vec = Word2Vec(vectorSize=3, minCount=0, inputCol=\"event_words\", outputCol=\"event_features\")\n",
    "model = word2Vec.fit(wordsData)\n",
    "result = model.transform(wordsData)\n",
    "\n",
    "word2Vec = Word2Vec(vectorSize=3, minCount=0, inputCol=\"topic_words\", outputCol=\"topic_features\")\n",
    "model = word2Vec.fit(result)\n",
    "result = model.transform(result)\n",
    "\n",
    "# Define a UDF to compute cosine similarity\n",
    "def cosine_similarity(a, b):\n",
    "    return float(a.dot(b) / (a.norm(2) * b.norm(2)))\n",
    "\n",
    "cosine_similarity_udf = udf(cosine_similarity, FloatType())\n",
    "\n",
    "# Compute cosine similarity between event_name and topic vectors\n",
    "result = result.withColumn(\"similarity\", cosine_similarity_udf(col(\"event_features\"), col(\"topic_features\")))\n",
    "\n",
    "# Show the DataFrame\n",
    "result.select(\"event_name\", \"topic\", \"similarity\").show()"
   ]
  },
  {
   "cell_type": "code",
   "execution_count": 71,
   "metadata": {},
   "outputs": [
    {
     "data": {
      "text/plain": [
       "['topic', 'event_id', 'similarity']"
      ]
     },
     "execution_count": 71,
     "metadata": {},
     "output_type": "execute_result"
    }
   ],
   "source": [
    "result.columns"
   ]
  },
  {
   "cell_type": "code",
   "execution_count": 40,
   "metadata": {},
   "outputs": [],
   "source": [
    "# Define a window partitioned by event_id, ordered by similarity\n",
    "window = Window.partitionBy(\"event_id\").orderBy(desc(\"similarity\"))\n",
    "\n",
    "# Add a row_number for each window\n",
    "result = result.withColumn(\"rn\", row_number().over(window))\n",
    "\n",
    "# Select the rows where rn is 1 (i.e., the rows with the highest similarity for each event_id)\n",
    "result = result.where(col(\"rn\") == 1)\n",
    "\n",
    "# Drop the rn column\n",
    "result = result.drop(\"rn\")"
   ]
  },
  {
   "cell_type": "code",
   "execution_count": 41,
   "metadata": {},
   "outputs": [
    {
     "data": {
      "text/plain": [
       "['topic',\n",
       " 'event_name',\n",
       " 'event_id',\n",
       " 'event_words',\n",
       " 'topic_words',\n",
       " 'event_features',\n",
       " 'topic_features',\n",
       " 'similarity']"
      ]
     },
     "execution_count": 41,
     "metadata": {},
     "output_type": "execute_result"
    }
   ],
   "source": [
    "result.columns"
   ]
  },
  {
   "cell_type": "code",
   "execution_count": 42,
   "metadata": {},
   "outputs": [],
   "source": [
    "# Remove redundant columns\n",
    "result = result.drop('event_words',\n",
    "'event_name',                     \n",
    " 'topic_words',\n",
    " 'event_features',\n",
    " 'topic_features')\n",
    "\n",
    "# Remove rows with 0.0 similarity\n",
    "result = result.filter(result.similarity != 0.0)"
   ]
  },
  {
   "cell_type": "code",
   "execution_count": 43,
   "metadata": {},
   "outputs": [],
   "source": [
    "matchted_data = parsed_data.join(result, [\"event_id\"], \"inner\")\n",
    "# Drop rows from parsed_data where event_id is not in result\n",
    "not_matchted_data = parsed_data.join(result, [\"event_id\"], \"left_anti\")"
   ]
  },
  {
   "cell_type": "code",
   "execution_count": 44,
   "metadata": {},
   "outputs": [
    {
     "data": {
      "text/plain": [
       "(827, 1011, 1011, 0)"
      ]
     },
     "execution_count": 44,
     "metadata": {},
     "output_type": "execute_result"
    }
   ],
   "source": [
    "result.count(), matchted_data.count(), parsed_data.count(), not_matchted_data.count()"
   ]
  },
  {
   "cell_type": "code",
   "execution_count": 45,
   "metadata": {},
   "outputs": [
    {
     "name": "stdout",
     "output_type": "stream",
     "text": [
      "+---------+--------------------+-------------+-------------+-------------------+--------------------+----------+\n",
      "| event_id|          topic_name|   group_city|group_country|          timestamp|               topic|similarity|\n",
      "+---------+--------------------+-------------+-------------+-------------------+--------------------+----------+\n",
      "|230195190|[Marketing, Small...|        Dubai|           ae|2017-03-19 13:15:32|  Mobile Development| 0.9828593|\n",
      "|233237425|[Hiking, Photo Wa...|   Wellington|           gb|2017-03-19 13:28:27|              Hiking|0.49070668|\n",
      "|233440488|[Artificial Intel...|       Warsaw|           pl|2017-03-19 13:14:32|               SciPy|0.58358026|\n",
      "|233884453|[Hiking, Outdoors...|      Glasgow|           gb|2017-03-19 13:12:06|              Hiking| 0.3832757|\n",
      "|234119236|[Virtual Currency...|        Lagos|           ng|2017-03-19 13:21:01|        Cryptoequity|0.89038694|\n",
      "|234631425|[Science, Farmers...|     Brisbane|           au|2017-03-19 13:28:11|          Futurology|0.93178153|\n",
      "|234717891|[Adventure, New I...|        Epsom|           gb|2017-03-19 13:24:47|  Outdoor Adventures|0.77796435|\n",
      "|234829379|[Fiction, Book Cl...|    Grapevine|           us|2017-03-19 13:26:12|              Social|0.67928004|\n",
      "|234829379|[Fiction, Book Cl...|    Grapevine|           us|2017-03-19 13:26:13|              Social|0.67928004|\n",
      "|235405145|[Open Source, Web...|     Montréal|           ca|2017-03-19 13:24:56|Education & Techn...| 0.6817193|\n",
      "|235601721|[Wine, Walking, B...|   Charleston|           us|2017-03-19 13:11:29|           Book Club|0.93131566|\n",
      "|235722897|[Book Club, Irish...|     New York|           us|2017-03-19 13:25:55|             Bourbon|  0.860122|\n",
      "|235896797|[Self Exploration...|   Germantown|           us|2017-03-19 13:28:40|       Consciousness| 0.7058172|\n",
      "|235968168|[Web Design, Comp...|     Edmonton|           ca|2017-03-19 13:27:09|Technology Profes...| 0.7859191|\n",
      "|236090520|[Intellectual Dis...|       London|           gb|2017-03-19 13:12:57|  20's & 30's Social| 0.9320819|\n",
      "|236222256|[Wine, Hiking, Di...|   Hackensack|           us|2017-03-19 13:11:12|                Wine| 0.6246806|\n",
      "|236266989|[Social Augmented...|       London|           gb|2017-03-19 13:17:07|               Unity| 0.9293878|\n",
      "|236336942|[Software Develop...|San Francisco|           us|2017-03-19 13:18:27|Software Development|   0.93424|\n",
      "|236336942|[Software Develop...|San Francisco|           us|2017-03-19 13:17:39|Software Development|   0.93424|\n",
      "|236349277|[Book Club, Readi...|     New York|           us|2017-03-19 13:26:25|           Book Club| 0.6359711|\n",
      "+---------+--------------------+-------------+-------------+-------------------+--------------------+----------+\n",
      "only showing top 20 rows\n",
      "\n"
     ]
    }
   ],
   "source": [
    "matchted_data.show()"
   ]
  },
  {
   "cell_type": "code",
   "execution_count": 46,
   "metadata": {},
   "outputs": [],
   "source": [
    "# find  min timestamp\n",
    "min_timestamp = matchted_data.select(F.min(\"timestamp\")).first()[0]"
   ]
  },
  {
   "cell_type": "code",
   "execution_count": 47,
   "metadata": {},
   "outputs": [
    {
     "data": {
      "text/plain": [
       "datetime.datetime(2017, 2, 9, 20, 39, 42)"
      ]
     },
     "execution_count": 47,
     "metadata": {},
     "output_type": "execute_result"
    }
   ],
   "source": [
    "min_timestamp"
   ]
  },
  {
   "cell_type": "code",
   "execution_count": 48,
   "metadata": {},
   "outputs": [],
   "source": [
    "# find max timestamp\n",
    "max_timestamp = matchted_data.select(F.max(\"timestamp\")).first()[0]"
   ]
  },
  {
   "cell_type": "code",
   "execution_count": 49,
   "metadata": {},
   "outputs": [],
   "source": [
    "days = matchted_data.select(F.to_date(\"timestamp\").alias(\"date\")).distinct().orderBy(\"date\")"
   ]
  },
  {
   "cell_type": "code",
   "execution_count": 50,
   "metadata": {},
   "outputs": [
    {
     "name": "stdout",
     "output_type": "stream",
     "text": [
      "+----------+\n",
      "|      date|\n",
      "+----------+\n",
      "|2017-02-09|\n",
      "|2017-02-14|\n",
      "|2017-02-23|\n",
      "|2017-03-15|\n",
      "|2017-03-16|\n",
      "|2017-03-17|\n",
      "|2017-03-18|\n",
      "|2017-03-19|\n",
      "+----------+\n",
      "\n"
     ]
    }
   ],
   "source": [
    "days.show()"
   ]
  },
  {
   "cell_type": "code",
   "execution_count": 51,
   "metadata": {},
   "outputs": [],
   "source": [
    "unique_days_count = matchted_data.select(F.date_format(\"timestamp\", \"yyyy-MM-dd\").alias(\"date\")).distinct().withColumn(\"count\", F.lit(0)).orderBy(\"date\")"
   ]
  },
  {
   "cell_type": "code",
   "execution_count": 52,
   "metadata": {},
   "outputs": [],
   "source": [
    "# calculate for each day count of rows in matchted_data\n",
    "days_count = matchted_data.select(F.date_format(\"timestamp\", \"yyyy-MM-dd\").alias(\"date\")).groupBy(\"date\").count().orderBy(\"date\")"
   ]
  },
  {
   "cell_type": "code",
   "execution_count": 53,
   "metadata": {},
   "outputs": [
    {
     "name": "stdout",
     "output_type": "stream",
     "text": [
      "+----------+-----+\n",
      "|      date|count|\n",
      "+----------+-----+\n",
      "|2017-02-09|    1|\n",
      "|2017-02-14|    2|\n",
      "|2017-02-23|    1|\n",
      "|2017-03-15|    1|\n",
      "|2017-03-16|    1|\n",
      "|2017-03-17|    2|\n",
      "|2017-03-18|    2|\n",
      "|2017-03-19| 1001|\n",
      "+----------+-----+\n",
      "\n"
     ]
    }
   ],
   "source": [
    "days_count.show()"
   ]
  },
  {
   "cell_type": "code",
   "execution_count": 54,
   "metadata": {},
   "outputs": [],
   "source": [
    "from pyspark.sql.functions import date_format"
   ]
  },
  {
   "cell_type": "code",
   "execution_count": 55,
   "metadata": {},
   "outputs": [],
   "source": [
    "data_plot = matchted_data.filter(date_format(col(\"timestamp\"), \"yyyy-MM-dd\") == \"2017-03-19\")"
   ]
  },
  {
   "cell_type": "code",
   "execution_count": 56,
   "metadata": {},
   "outputs": [
    {
     "name": "stdout",
     "output_type": "stream",
     "text": [
      "+---------+--------------------+-------------+-------------+-------------------+--------------------+----------+\n",
      "| event_id|          topic_name|   group_city|group_country|          timestamp|               topic|similarity|\n",
      "+---------+--------------------+-------------+-------------+-------------------+--------------------+----------+\n",
      "|230195190|[Marketing, Small...|        Dubai|           ae|2017-03-19 13:15:32|  Mobile Development| 0.9828593|\n",
      "|233237425|[Hiking, Photo Wa...|   Wellington|           gb|2017-03-19 13:28:27|              Hiking|0.49070668|\n",
      "|233440488|[Artificial Intel...|       Warsaw|           pl|2017-03-19 13:14:32|               SciPy|0.58358026|\n",
      "|233884453|[Hiking, Outdoors...|      Glasgow|           gb|2017-03-19 13:12:06|              Hiking| 0.3832757|\n",
      "|234119236|[Virtual Currency...|        Lagos|           ng|2017-03-19 13:21:01|        Cryptoequity|0.89038694|\n",
      "|234631425|[Science, Farmers...|     Brisbane|           au|2017-03-19 13:28:11|          Futurology|0.93178153|\n",
      "|234717891|[Adventure, New I...|        Epsom|           gb|2017-03-19 13:24:47|  Outdoor Adventures|0.77796435|\n",
      "|234829379|[Fiction, Book Cl...|    Grapevine|           us|2017-03-19 13:26:12|              Social|0.67928004|\n",
      "|234829379|[Fiction, Book Cl...|    Grapevine|           us|2017-03-19 13:26:13|              Social|0.67928004|\n",
      "|235405145|[Open Source, Web...|     Montréal|           ca|2017-03-19 13:24:56|Education & Techn...| 0.6817193|\n",
      "|235601721|[Wine, Walking, B...|   Charleston|           us|2017-03-19 13:11:29|           Book Club|0.93131566|\n",
      "|235722897|[Book Club, Irish...|     New York|           us|2017-03-19 13:25:55|             Bourbon|  0.860122|\n",
      "|235896797|[Self Exploration...|   Germantown|           us|2017-03-19 13:28:40|       Consciousness| 0.7058172|\n",
      "|235968168|[Web Design, Comp...|     Edmonton|           ca|2017-03-19 13:27:09|Technology Profes...| 0.7859191|\n",
      "|236090520|[Intellectual Dis...|       London|           gb|2017-03-19 13:12:57|  20's & 30's Social| 0.9320819|\n",
      "|236222256|[Wine, Hiking, Di...|   Hackensack|           us|2017-03-19 13:11:12|                Wine| 0.6246806|\n",
      "|236266989|[Social Augmented...|       London|           gb|2017-03-19 13:17:07|               Unity| 0.9293878|\n",
      "|236336942|[Software Develop...|San Francisco|           us|2017-03-19 13:18:27|Software Development|   0.93424|\n",
      "|236336942|[Software Develop...|San Francisco|           us|2017-03-19 13:17:39|Software Development|   0.93424|\n",
      "|236349277|[Book Club, Readi...|     New York|           us|2017-03-19 13:26:25|           Book Club| 0.6359711|\n",
      "+---------+--------------------+-------------+-------------+-------------------+--------------------+----------+\n",
      "only showing top 20 rows\n",
      "\n"
     ]
    }
   ],
   "source": [
    "data_plot.show()"
   ]
  },
  {
   "cell_type": "code",
   "execution_count": 57,
   "metadata": {},
   "outputs": [],
   "source": [
    "from pyspark.sql.functions import window, col\n",
    "\n",
    "# Define the window duration and sliding interval\n",
    "window_duration = \"8 hours\"  # Change as needed\n",
    "slide_duration = \"2 hours\"  # Change as needed\n",
    "\n",
    "# Group by window and topic, and count occurrences\n",
    "windowedCounts = data_plot.groupBy(\n",
    "    window(col(\"timestamp\"), window_duration, slide_duration),\n",
    "    col(\"topic\")\n",
    ").count()"
   ]
  },
  {
   "cell_type": "code",
   "execution_count": 58,
   "metadata": {},
   "outputs": [
    {
     "name": "stdout",
     "output_type": "stream",
     "text": [
      "+--------------------+--------------------+-----+\n",
      "|              window|               topic|count|\n",
      "+--------------------+--------------------+-----+\n",
      "|{2017-03-19 11:00...|   urban agriculture|    1|\n",
      "|{2017-03-19 09:00...|South Asian Desi ...|    1|\n",
      "|{2017-03-19 09:00...|             Dancing|    5|\n",
      "|{2017-03-19 09:00...|       Amazon Seller|    1|\n",
      "|{2017-03-19 11:00...|       Female Bikers|    1|\n",
      "+--------------------+--------------------+-----+\n",
      "only showing top 5 rows\n",
      "\n"
     ]
    }
   ],
   "source": [
    "windowedCounts.show(5)"
   ]
  },
  {
   "cell_type": "code",
   "execution_count": 59,
   "metadata": {},
   "outputs": [],
   "source": [
    "from pyspark.sql import Window"
   ]
  },
  {
   "cell_type": "code",
   "execution_count": 60,
   "metadata": {},
   "outputs": [],
   "source": [
    "from pyspark.sql.functions import window, col, desc, rank"
   ]
  },
  {
   "cell_type": "code",
   "execution_count": 61,
   "metadata": {},
   "outputs": [],
   "source": [
    "N = 5"
   ]
  },
  {
   "cell_type": "code",
   "execution_count": 62,
   "metadata": {},
   "outputs": [],
   "source": [
    "# Rank topics within each window\n",
    "windowSpec = Window.partitionBy(\"window\").orderBy(desc(\"count\"))\n",
    "allRank = windowedCounts.withColumn(\"rank\", rank().over(windowSpec))\n",
    "\n",
    "topN = allRank.filter(col(\"rank\") <= N)  # N is your desired top topics\n",
    "\n",
    "# Collect data for plotting\n",
    "# result = topN.collect()"
   ]
  },
  {
   "cell_type": "code",
   "execution_count": 63,
   "metadata": {},
   "outputs": [
    {
     "name": "stdout",
     "output_type": "stream",
     "text": [
      "+-------+-----------------+------------------+------------------+\n",
      "|summary|            topic|             count|              rank|\n",
      "+-------+-----------------+------------------+------------------+\n",
      "|  count|             1693|              1693|              1693|\n",
      "|   mean|             null|2.3650324867099823|125.92734790313054|\n",
      "| stddev|             null| 4.272376078266628|57.031357057502916|\n",
      "|    min|             .NET|                 1|                 1|\n",
      "|    max|urban agriculture|                52|               170|\n",
      "+-------+-----------------+------------------+------------------+\n",
      "\n"
     ]
    }
   ],
   "source": [
    "allRank.describe().show()"
   ]
  },
  {
   "cell_type": "code",
   "execution_count": 64,
   "metadata": {},
   "outputs": [
    {
     "name": "stdout",
     "output_type": "stream",
     "text": [
      "+-------+-----------------+-----------------+------------------+\n",
      "|summary|            topic|            count|              rank|\n",
      "+-------+-----------------+-----------------+------------------+\n",
      "|  count|               25|               25|                25|\n",
      "|   mean|             null|            27.08|               2.6|\n",
      "| stddev|             null|17.32031562452986|1.5275252316519468|\n",
      "|    min|   Expat American|                1|                 1|\n",
      "|    max|Social Networking|               52|                 5|\n",
      "+-------+-----------------+-----------------+------------------+\n",
      "\n"
     ]
    }
   ],
   "source": [
    "topN.describe().show()"
   ]
  },
  {
   "cell_type": "code",
   "execution_count": 65,
   "metadata": {},
   "outputs": [],
   "source": [
    "spark.conf.set(\"spark.sql.execution.arrow.enabled\", \"true\")\n"
   ]
  },
  {
   "cell_type": "code",
   "execution_count": 66,
   "metadata": {},
   "outputs": [],
   "source": [
    "# Convert the Spark DataFrame to a Pandas DataFrame\n",
    "pd_df = topN.toPandas()"
   ]
  },
  {
   "cell_type": "code",
   "execution_count": 67,
   "metadata": {},
   "outputs": [
    {
     "data": {
      "text/html": [
       "<div>\n",
       "<style scoped>\n",
       "    .dataframe tbody tr th:only-of-type {\n",
       "        vertical-align: middle;\n",
       "    }\n",
       "\n",
       "    .dataframe tbody tr th {\n",
       "        vertical-align: top;\n",
       "    }\n",
       "\n",
       "    .dataframe thead th {\n",
       "        text-align: right;\n",
       "    }\n",
       "</style>\n",
       "<table border=\"1\" class=\"dataframe\">\n",
       "  <thead>\n",
       "    <tr style=\"text-align: right;\">\n",
       "      <th></th>\n",
       "      <th>window</th>\n",
       "      <th>topic</th>\n",
       "      <th>count</th>\n",
       "      <th>rank</th>\n",
       "    </tr>\n",
       "  </thead>\n",
       "  <tbody>\n",
       "    <tr>\n",
       "      <th>0</th>\n",
       "      <td>{'start': 2017-03-18 19:00:00+01:00, 'end': 20...</td>\n",
       "      <td>Linux</td>\n",
       "      <td>1</td>\n",
       "      <td>1</td>\n",
       "    </tr>\n",
       "    <tr>\n",
       "      <th>1</th>\n",
       "      <td>{'start': 2017-03-18 21:00:00+01:00, 'end': 20...</td>\n",
       "      <td>Linux</td>\n",
       "      <td>1</td>\n",
       "      <td>1</td>\n",
       "    </tr>\n",
       "    <tr>\n",
       "      <th>2</th>\n",
       "      <td>{'start': 2017-03-18 23:00:00+01:00, 'end': 20...</td>\n",
       "      <td>Linux</td>\n",
       "      <td>1</td>\n",
       "      <td>1</td>\n",
       "    </tr>\n",
       "    <tr>\n",
       "      <th>3</th>\n",
       "      <td>{'start': 2017-03-19 01:00:00+01:00, 'end': 20...</td>\n",
       "      <td>Linux</td>\n",
       "      <td>1</td>\n",
       "      <td>1</td>\n",
       "    </tr>\n",
       "    <tr>\n",
       "      <th>4</th>\n",
       "      <td>{'start': 2017-03-19 05:00:00+01:00, 'end': 20...</td>\n",
       "      <td>Expat American</td>\n",
       "      <td>1</td>\n",
       "      <td>1</td>\n",
       "    </tr>\n",
       "    <tr>\n",
       "      <th>5</th>\n",
       "      <td>{'start': 2017-03-19 07:00:00+01:00, 'end': 20...</td>\n",
       "      <td>Social Networking</td>\n",
       "      <td>52</td>\n",
       "      <td>1</td>\n",
       "    </tr>\n",
       "    <tr>\n",
       "      <th>6</th>\n",
       "      <td>{'start': 2017-03-19 07:00:00+01:00, 'end': 20...</td>\n",
       "      <td>Social</td>\n",
       "      <td>44</td>\n",
       "      <td>2</td>\n",
       "    </tr>\n",
       "    <tr>\n",
       "      <th>7</th>\n",
       "      <td>{'start': 2017-03-19 07:00:00+01:00, 'end': 20...</td>\n",
       "      <td>Hiking</td>\n",
       "      <td>26</td>\n",
       "      <td>3</td>\n",
       "    </tr>\n",
       "    <tr>\n",
       "      <th>8</th>\n",
       "      <td>{'start': 2017-03-19 07:00:00+01:00, 'end': 20...</td>\n",
       "      <td>Fun Times</td>\n",
       "      <td>25</td>\n",
       "      <td>4</td>\n",
       "    </tr>\n",
       "    <tr>\n",
       "      <th>9</th>\n",
       "      <td>{'start': 2017-03-19 07:00:00+01:00, 'end': 20...</td>\n",
       "      <td>New In Town</td>\n",
       "      <td>21</td>\n",
       "      <td>5</td>\n",
       "    </tr>\n",
       "    <tr>\n",
       "      <th>10</th>\n",
       "      <td>{'start': 2017-03-19 09:00:00+01:00, 'end': 20...</td>\n",
       "      <td>Social Networking</td>\n",
       "      <td>52</td>\n",
       "      <td>1</td>\n",
       "    </tr>\n",
       "    <tr>\n",
       "      <th>11</th>\n",
       "      <td>{'start': 2017-03-19 09:00:00+01:00, 'end': 20...</td>\n",
       "      <td>Social</td>\n",
       "      <td>44</td>\n",
       "      <td>2</td>\n",
       "    </tr>\n",
       "    <tr>\n",
       "      <th>12</th>\n",
       "      <td>{'start': 2017-03-19 09:00:00+01:00, 'end': 20...</td>\n",
       "      <td>Hiking</td>\n",
       "      <td>26</td>\n",
       "      <td>3</td>\n",
       "    </tr>\n",
       "    <tr>\n",
       "      <th>13</th>\n",
       "      <td>{'start': 2017-03-19 09:00:00+01:00, 'end': 20...</td>\n",
       "      <td>Fun Times</td>\n",
       "      <td>25</td>\n",
       "      <td>4</td>\n",
       "    </tr>\n",
       "    <tr>\n",
       "      <th>14</th>\n",
       "      <td>{'start': 2017-03-19 09:00:00+01:00, 'end': 20...</td>\n",
       "      <td>New In Town</td>\n",
       "      <td>21</td>\n",
       "      <td>5</td>\n",
       "    </tr>\n",
       "    <tr>\n",
       "      <th>15</th>\n",
       "      <td>{'start': 2017-03-19 11:00:00+01:00, 'end': 20...</td>\n",
       "      <td>Social Networking</td>\n",
       "      <td>52</td>\n",
       "      <td>1</td>\n",
       "    </tr>\n",
       "    <tr>\n",
       "      <th>16</th>\n",
       "      <td>{'start': 2017-03-19 11:00:00+01:00, 'end': 20...</td>\n",
       "      <td>Social</td>\n",
       "      <td>44</td>\n",
       "      <td>2</td>\n",
       "    </tr>\n",
       "    <tr>\n",
       "      <th>17</th>\n",
       "      <td>{'start': 2017-03-19 11:00:00+01:00, 'end': 20...</td>\n",
       "      <td>Hiking</td>\n",
       "      <td>26</td>\n",
       "      <td>3</td>\n",
       "    </tr>\n",
       "    <tr>\n",
       "      <th>18</th>\n",
       "      <td>{'start': 2017-03-19 11:00:00+01:00, 'end': 20...</td>\n",
       "      <td>Fun Times</td>\n",
       "      <td>25</td>\n",
       "      <td>4</td>\n",
       "    </tr>\n",
       "    <tr>\n",
       "      <th>19</th>\n",
       "      <td>{'start': 2017-03-19 11:00:00+01:00, 'end': 20...</td>\n",
       "      <td>New In Town</td>\n",
       "      <td>21</td>\n",
       "      <td>5</td>\n",
       "    </tr>\n",
       "    <tr>\n",
       "      <th>20</th>\n",
       "      <td>{'start': 2017-03-19 13:00:00+01:00, 'end': 20...</td>\n",
       "      <td>Social Networking</td>\n",
       "      <td>52</td>\n",
       "      <td>1</td>\n",
       "    </tr>\n",
       "    <tr>\n",
       "      <th>21</th>\n",
       "      <td>{'start': 2017-03-19 13:00:00+01:00, 'end': 20...</td>\n",
       "      <td>Social</td>\n",
       "      <td>44</td>\n",
       "      <td>2</td>\n",
       "    </tr>\n",
       "    <tr>\n",
       "      <th>22</th>\n",
       "      <td>{'start': 2017-03-19 13:00:00+01:00, 'end': 20...</td>\n",
       "      <td>Hiking</td>\n",
       "      <td>26</td>\n",
       "      <td>3</td>\n",
       "    </tr>\n",
       "    <tr>\n",
       "      <th>23</th>\n",
       "      <td>{'start': 2017-03-19 13:00:00+01:00, 'end': 20...</td>\n",
       "      <td>Fun Times</td>\n",
       "      <td>25</td>\n",
       "      <td>4</td>\n",
       "    </tr>\n",
       "    <tr>\n",
       "      <th>24</th>\n",
       "      <td>{'start': 2017-03-19 13:00:00+01:00, 'end': 20...</td>\n",
       "      <td>New In Town</td>\n",
       "      <td>21</td>\n",
       "      <td>5</td>\n",
       "    </tr>\n",
       "  </tbody>\n",
       "</table>\n",
       "</div>"
      ],
      "text/plain": [
       "                                               window              topic  \\\n",
       "0   {'start': 2017-03-18 19:00:00+01:00, 'end': 20...              Linux   \n",
       "1   {'start': 2017-03-18 21:00:00+01:00, 'end': 20...              Linux   \n",
       "2   {'start': 2017-03-18 23:00:00+01:00, 'end': 20...              Linux   \n",
       "3   {'start': 2017-03-19 01:00:00+01:00, 'end': 20...              Linux   \n",
       "4   {'start': 2017-03-19 05:00:00+01:00, 'end': 20...     Expat American   \n",
       "5   {'start': 2017-03-19 07:00:00+01:00, 'end': 20...  Social Networking   \n",
       "6   {'start': 2017-03-19 07:00:00+01:00, 'end': 20...             Social   \n",
       "7   {'start': 2017-03-19 07:00:00+01:00, 'end': 20...             Hiking   \n",
       "8   {'start': 2017-03-19 07:00:00+01:00, 'end': 20...          Fun Times   \n",
       "9   {'start': 2017-03-19 07:00:00+01:00, 'end': 20...        New In Town   \n",
       "10  {'start': 2017-03-19 09:00:00+01:00, 'end': 20...  Social Networking   \n",
       "11  {'start': 2017-03-19 09:00:00+01:00, 'end': 20...             Social   \n",
       "12  {'start': 2017-03-19 09:00:00+01:00, 'end': 20...             Hiking   \n",
       "13  {'start': 2017-03-19 09:00:00+01:00, 'end': 20...          Fun Times   \n",
       "14  {'start': 2017-03-19 09:00:00+01:00, 'end': 20...        New In Town   \n",
       "15  {'start': 2017-03-19 11:00:00+01:00, 'end': 20...  Social Networking   \n",
       "16  {'start': 2017-03-19 11:00:00+01:00, 'end': 20...             Social   \n",
       "17  {'start': 2017-03-19 11:00:00+01:00, 'end': 20...             Hiking   \n",
       "18  {'start': 2017-03-19 11:00:00+01:00, 'end': 20...          Fun Times   \n",
       "19  {'start': 2017-03-19 11:00:00+01:00, 'end': 20...        New In Town   \n",
       "20  {'start': 2017-03-19 13:00:00+01:00, 'end': 20...  Social Networking   \n",
       "21  {'start': 2017-03-19 13:00:00+01:00, 'end': 20...             Social   \n",
       "22  {'start': 2017-03-19 13:00:00+01:00, 'end': 20...             Hiking   \n",
       "23  {'start': 2017-03-19 13:00:00+01:00, 'end': 20...          Fun Times   \n",
       "24  {'start': 2017-03-19 13:00:00+01:00, 'end': 20...        New In Town   \n",
       "\n",
       "    count  rank  \n",
       "0       1     1  \n",
       "1       1     1  \n",
       "2       1     1  \n",
       "3       1     1  \n",
       "4       1     1  \n",
       "5      52     1  \n",
       "6      44     2  \n",
       "7      26     3  \n",
       "8      25     4  \n",
       "9      21     5  \n",
       "10     52     1  \n",
       "11     44     2  \n",
       "12     26     3  \n",
       "13     25     4  \n",
       "14     21     5  \n",
       "15     52     1  \n",
       "16     44     2  \n",
       "17     26     3  \n",
       "18     25     4  \n",
       "19     21     5  \n",
       "20     52     1  \n",
       "21     44     2  \n",
       "22     26     3  \n",
       "23     25     4  \n",
       "24     21     5  "
      ]
     },
     "execution_count": 67,
     "metadata": {},
     "output_type": "execute_result"
    }
   ],
   "source": [
    "pd_df"
   ]
  },
  {
   "cell_type": "code",
   "execution_count": 68,
   "metadata": {},
   "outputs": [],
   "source": [
    "import seaborn as sns\n",
    "import matplotlib.pyplot as plt\n",
    "\n",
    "# Extract 'start' timestamp from 'window' column\n",
    "# pd_df['date'] = pd_df['window'].apply(lambda x: x['start'])\n",
    "\n",
    "# Extract 'start' timestamp from 'window' column and convert to time\n",
    "pd_df['time'] = pd_df['window'].apply(lambda x: x['start'].strftime('%H:%M'))\n",
    "\n",
    "# Convert 'date' to datetime\n",
    "# pd_df['date'] = pd.to_datetime(pd_df['date'])"
   ]
  },
  {
   "cell_type": "code",
   "execution_count": 69,
   "metadata": {},
   "outputs": [
    {
     "data": {
      "image/png": "[encoded data removed]",
      "text/plain": [
       "<Figure size 1100x700 with 1 Axes>"
      ]
     },
     "metadata": {},
     "output_type": "display_data"
    }
   ],
   "source": [
    "sns.set_style(\"whitegrid\")\n",
    "plt.figure(figsize=(11,7))\n",
    "sns.set(font_scale=0.8)\n",
    "plt.title('Count of Topics Over Time')\n",
    "p = sns.barplot(x='time', hue=\"topic\", y='count',data=pd_df)\n",
    "_ = p.set(xlabel=\"time\", ylabel=\"Count\")\n",
    "plt.legend(loc='upper left')\n",
    "plt.grid(True) "
   ]
  },
  {
   "cell_type": "code",
   "execution_count": null,
   "metadata": {},
   "outputs": [],
   "source": []
  },
  {
   "cell_type": "code",
   "execution_count": 70,
   "metadata": {},
   "outputs": [],
   "source": [
    " # Stop the Spark Session\n",
    "# spark.stop()"
   ]
  }
 ],
 "metadata": {
  "kernelspec": {
   "display_name": "Python 3",
   "language": "python",
   "name": "python3"
  },
  "language_info": {
   "codemirror_mode": {
    "name": "ipython",
    "version": 3
   },
   "file_extension": ".py",
   "mimetype": "text/x-python",
   "name": "python",
   "nbconvert_exporter": "python",
   "pygments_lexer": "ipython3",
   "version": "3.10.11"
  }
 },
 "nbformat": 4,
 "nbformat_minor": 2
}
