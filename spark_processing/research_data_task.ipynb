{
 "cells": [
  {
   "cell_type": "code",
   "execution_count": 1,
   "metadata": {},
   "outputs": [],
   "source": [
    "from pyspark.sql.functions import col, collect_set, regexp_replace, coalesce, udf, asc, sort_array, regexp_replace, substring\n",
    "from pyspark.sql import SparkSession\n",
    "from pyspark.sql.types import StructType, StructField, StringType, IntegerType, BooleanType"
   ]
  },
  {
   "cell_type": "code",
   "execution_count": 2,
   "metadata": {},
   "outputs": [],
   "source": [
    "IBAN_ALPHABET = \"0123456789ABCDEFGHIJKLMNOPQRSTUVWXYZ\"\n",
    "\n",
    "bban_format ={\n",
    "    \"DE\": {\n",
    "        \"composition\": \"{bank_code:08d}{account_number:010d}\",\n",
    "        \"country\": \"Germany\",\n",
    "        \"length\": 22,\n",
    "        \"bank_code\" : [4,12],\n",
    "        \"account_number\":[12,22]\n",
    "    },\n",
    "\n",
    "}\n",
    "\n",
    "class Iban(object):\n",
    "\n",
    "    # Note that the 97 divisor is a constant used in the algorithm for computing \n",
    "    # the check digits of the IBAN. The check digits are the last two digits of the IBAN, \n",
    "    # and they are computed by replacing the letters in the IBAN with their \n",
    "    # corresponding digits, concatenating the resulting string, \n",
    "    # and computing the remainder of the resulting number divided by 97. \n",
    "    @classmethod\n",
    "    def validate_iban(cls, iban):\n",
    "        # check if country code is valid,\n",
    "        # then check if iban length is correct for that country\n",
    "        length_for_country = bban_format.get(iban[:2],{}).get(\"length\", 0)\n",
    "        if not length_for_country or len(iban) != length_for_country:\n",
    "            return False\n",
    "        return cls._to_base_10_Str(iban) % 97 == 1\n",
    "    \n",
    "    @classmethod\n",
    "    def _to_base_10_Str(cls, iban):\n",
    "        # move first 4 chars to the end\n",
    "        result = iban[4:]+iban[:4]\n",
    "        # 0->0, 1->1, ..., A -> 10, B->11, ..., Z->35\n",
    "        result = \"\".join(str(IBAN_ALPHABET.index(c)) for c in result)\n",
    "        # cut leading zeros\n",
    "        return int(result)\n",
    "\n",
    "    # The check digits are then obtained by subtracting the remainder from 98 \n",
    "    # and padding the result with a leading zero if necessary.\n",
    "    @classmethod\n",
    "    def _iban_check_sum(cls, country_code, bban):\n",
    "        check_string = bban + country_code + \"00\"\n",
    "        check_string = \"\".join(str(IBAN_ALPHABET.index(c)) for c in check_string)\n",
    "        check_sum = 98 - int(check_string) % 97\n",
    "        return \"%02d\" % check_sum\n",
    "    \n",
    "\n",
    "# - `^` - Matches the start of the string.\n",
    "# - `([A-Z]{2})` - Matches any two uppercase letters. This is the country code of the IBAN.\n",
    "# - `([0-9]{20})` - Matches any 20 digits. This is the account number of the IBAN.\n",
    "# Taken together, this regular expression matches a string that starts with a \n",
    "# two-letter country code, followed by 20 digits for the account number. \n",
    "# The regular expression ensures that the IBAN string is well-formed and has the correct structure.\n",
    "# The `&` operator is used to combine this regular expression with another regular \n",
    "# expression that checks the length of the IBAN string. \n",
    "# The second regular expression `col('iban').rlike('^.{22}')` \n",
    "# matches any string that is exactly 22 characters long. \n",
    "# This ensures that the IBAN string is the correct length.\n",
    "#  Note that this regular expression does not validate the actual content of the IBAN, \n",
    "# such as whether the country code is valid or whether the check digits are correct. \n",
    "# It only checks that the IBAN has the correct structure and length.\n",
    "def validate_iban(iban_col):\n",
    "    # TODO: Implement IBAN validation using a library or service\n",
    "    return iban_col.rlike('^([A-Z]{2})([0-9]{20})') & (col('iban').rlike('^.{22}'))"
   ]
  },
  {
   "cell_type": "code",
   "execution_count": 3,
   "metadata": {},
   "outputs": [],
   "source": [
    "# Create a SparkSession\n",
    "spark = SparkSession.builder.appName(\"Counterparty Data\").getOrCreate()\n",
    "\n",
    "# Define the schema for the input CSV file\n",
    "schema = StructType([\n",
    "        StructField(\"id\", IntegerType(), True),\n",
    "        StructField(\"name\", StringType(), True),\n",
    "        StructField(\"iban\", StringType(), True)\n",
    "    ])\n",
    "\n",
    "# Load the CSV file into a Spark DataFrame\n",
    "try:\n",
    "    df = spark.read.csv('source_1_2_2_1.csv', header=True, schema=schema)\n",
    "except Exception as e:\n",
    "    print(f\"Failed to load input file {input_path}: {e}\")"
   ]
  },
  {
   "cell_type": "code",
   "execution_count": 4,
   "metadata": {},
   "outputs": [
    {
     "name": "stdout",
     "output_type": "stream",
     "text": [
      "+---+-----------------------+---------------------------+\n",
      "|id |name                   |iban                       |\n",
      "+---+-----------------------+---------------------------+\n",
      "|1  |Puls Technologies      |DE89 3704 0044 0532 0130 00|\n",
      "|2  |Widget Corp            |DE93 1001 0010 0850 8833 10|\n",
      "|3  |Data Dynamics          |DE75 1007 0024 0944 3786 00|\n",
      "|4  |Invalid Corp           |INVALID                    |\n",
      "|5  |Puls Technologies      |DE89 3704 0044 0532 0130 00|\n",
      "|6  |Widget Corp.           |DE93 1001 0010 0850 8833 10|\n",
      "|7  |Data Dynamics Inc      |DE75 1007 0024 0944 3786 00|\n",
      "|8  |Puls Technologies GmbH |DE89 3704 0044 0532 0130 00|\n",
      "|9  |Advanced Analytics     |DE71 1002 0890 0027 1738 12|\n",
      "|10 |Dynamic Data           |DE14 1007 0000 0077 2277 00|\n",
      "|11 |Widget Corp            |DE93 1001 0010 0850 8833 10|\n",
      "|12 |Dynamic Data           |DE14 1007 0000 0077 2277 01|\n",
      "|13 |Puls Technologies      |DE89 3704 0044 0532 0130 01|\n",
      "|14 |Advanced Analytics Corp|DE71 1002 0890 0027 1738 13|\n",
      "|15 |Data Dynamics          |DE75 1007 0024 0944 3786 01|\n",
      "|16 |Invalid Corp           |INVALID                    |\n",
      "|17 |Puls Technologies      |DE89 3704 0044 0532 0130 02|\n",
      "|18 |Widget Corp.           |DE93 1001 0010 0850 8833 11|\n",
      "|19 |Data Dynamics Inc      |DE75 1007 0024 0944 3786 02|\n",
      "|20 |Puls Technologies GmbH |DE89 3704 0044 0532 0130 03|\n",
      "+---+-----------------------+---------------------------+\n",
      "only showing top 20 rows\n",
      "\n"
     ]
    }
   ],
   "source": [
    "# show df\n",
    "df.show(truncate=False)"
   ]
  },
  {
   "cell_type": "code",
   "execution_count": 5,
   "metadata": {},
   "outputs": [],
   "source": [
    "df_1 = df.withColumn(\"iban_clean\", regexp_replace(col(\"iban\"), \" \", \"\"))"
   ]
  },
  {
   "cell_type": "code",
   "execution_count": 6,
   "metadata": {},
   "outputs": [
    {
     "name": "stdout",
     "output_type": "stream",
     "text": [
      "+---+-----------------------+---------------------------+----------------------+\n",
      "|id |name                   |iban                       |iban_clean            |\n",
      "+---+-----------------------+---------------------------+----------------------+\n",
      "|1  |Puls Technologies      |DE89 3704 0044 0532 0130 00|DE89370400440532013000|\n",
      "|2  |Widget Corp            |DE93 1001 0010 0850 8833 10|DE93100100100850883310|\n",
      "|3  |Data Dynamics          |DE75 1007 0024 0944 3786 00|DE75100700240944378600|\n",
      "|4  |Invalid Corp           |INVALID                    |INVALID               |\n",
      "|5  |Puls Technologies      |DE89 3704 0044 0532 0130 00|DE89370400440532013000|\n",
      "|6  |Widget Corp.           |DE93 1001 0010 0850 8833 10|DE93100100100850883310|\n",
      "|7  |Data Dynamics Inc      |DE75 1007 0024 0944 3786 00|DE75100700240944378600|\n",
      "|8  |Puls Technologies GmbH |DE89 3704 0044 0532 0130 00|DE89370400440532013000|\n",
      "|9  |Advanced Analytics     |DE71 1002 0890 0027 1738 12|DE71100208900027173812|\n",
      "|10 |Dynamic Data           |DE14 1007 0000 0077 2277 00|DE14100700000077227700|\n",
      "|11 |Widget Corp            |DE93 1001 0010 0850 8833 10|DE93100100100850883310|\n",
      "|12 |Dynamic Data           |DE14 1007 0000 0077 2277 01|DE14100700000077227701|\n",
      "|13 |Puls Technologies      |DE89 3704 0044 0532 0130 01|DE89370400440532013001|\n",
      "|14 |Advanced Analytics Corp|DE71 1002 0890 0027 1738 13|DE71100208900027173813|\n",
      "|15 |Data Dynamics          |DE75 1007 0024 0944 3786 01|DE75100700240944378601|\n",
      "|16 |Invalid Corp           |INVALID                    |INVALID               |\n",
      "|17 |Puls Technologies      |DE89 3704 0044 0532 0130 02|DE89370400440532013002|\n",
      "|18 |Widget Corp.           |DE93 1001 0010 0850 8833 11|DE93100100100850883311|\n",
      "|19 |Data Dynamics Inc      |DE75 1007 0024 0944 3786 02|DE75100700240944378602|\n",
      "|20 |Puls Technologies GmbH |DE89 3704 0044 0532 0130 03|DE89370400440532013003|\n",
      "+---+-----------------------+---------------------------+----------------------+\n",
      "only showing top 20 rows\n",
      "\n"
     ]
    }
   ],
   "source": [
    "df_1.show(truncate=False)"
   ]
  },
  {
   "cell_type": "code",
   "execution_count": 7,
   "metadata": {},
   "outputs": [],
   "source": [
    "# Define a UDF that applies the Iban.validate_iban() method to a column\n",
    "validate_iban_udf = udf(lambda iban: Iban.validate_iban(iban), BooleanType())"
   ]
  },
  {
   "cell_type": "code",
   "execution_count": 8,
   "metadata": {},
   "outputs": [],
   "source": [
    "df_1 = df_1.withColumn('is_valid', validate_iban_udf(col('iban_clean')))"
   ]
  },
  {
   "cell_type": "code",
   "execution_count": 9,
   "metadata": {},
   "outputs": [],
   "source": [
    "df_sorted = df_1.orderBy(asc('iban'), asc('name'))"
   ]
  },
  {
   "cell_type": "code",
   "execution_count": 10,
   "metadata": {},
   "outputs": [
    {
     "name": "stdout",
     "output_type": "stream",
     "text": [
      "+---+-----------------------+---------------------------+----------------------+--------+\n",
      "|id |name                   |iban                       |iban_clean            |is_valid|\n",
      "+---+-----------------------+---------------------------+----------------------+--------+\n",
      "|10 |Dynamic Data           |DE14 1007 0000 0077 2277 00|DE14100700000077227700|false   |\n",
      "|12 |Dynamic Data           |DE14 1007 0000 0077 2277 01|DE14100700000077227701|true    |\n",
      "|22 |Dynamic Data           |DE14 1007 0000 0077 2277 02|DE14100700000077227702|false   |\n",
      "|24 |Dynamic Data           |DE14 1007 0000 0077 2277 03|DE14100700000077227703|false   |\n",
      "|9  |Advanced Analytics     |DE71 1002 0890 0027 1738 12|DE71100208900027173812|false   |\n",
      "|14 |Advanced Analytics Corp|DE71 1002 0890 0027 1738 13|DE71100208900027173813|false   |\n",
      "|21 |Advanced Analytics     |DE71 1002 0890 0027 1738 14|DE71100208900027173814|false   |\n",
      "|26 |Advanced Analytics Corp|DE71 1002 0890 0027 1738 15|DE71100208900027173815|false   |\n",
      "|3  |Data Dynamics          |DE75 1007 0024 0944 3786 00|DE75100700240944378600|false   |\n",
      "|7  |Data Dynamics Inc      |DE75 1007 0024 0944 3786 00|DE75100700240944378600|false   |\n",
      "|15 |Data Dynamics          |DE75 1007 0024 0944 3786 01|DE75100700240944378601|false   |\n",
      "|19 |Data Dynamics Inc      |DE75 1007 0024 0944 3786 02|DE75100700240944378602|false   |\n",
      "|27 |Data Dynamics          |DE75 1007 0024 0944 3786 03|DE75100700240944378603|false   |\n",
      "|5  |Puls Technologies      |DE89 3704 0044 0532 0130 00|DE89370400440532013000|true    |\n",
      "|1  |Puls Technologies      |DE89 3704 0044 0532 0130 00|DE89370400440532013000|true    |\n",
      "|8  |Puls Technologies GmbH |DE89 3704 0044 0532 0130 00|DE89370400440532013000|true    |\n",
      "|13 |Puls Technologies      |DE89 3704 0044 0532 0130 01|DE89370400440532013001|false   |\n",
      "|17 |Puls Technologies      |DE89 3704 0044 0532 0130 02|DE89370400440532013002|false   |\n",
      "|20 |Puls Technologies GmbH |DE89 3704 0044 0532 0130 03|DE89370400440532013003|false   |\n",
      "|25 |Puls Technologies      |DE89 3704 0044 0532 0130 04|DE89370400440532013004|false   |\n",
      "+---+-----------------------+---------------------------+----------------------+--------+\n",
      "only showing top 20 rows\n",
      "\n"
     ]
    }
   ],
   "source": [
    "df_sorted.show(truncate=False)"
   ]
  },
  {
   "cell_type": "markdown",
   "metadata": {},
   "source": [
    "### we have artificial data and for now we will check only if iban contains first 2 letters of country code and last digital"
   ]
  },
  {
   "cell_type": "markdown",
   "metadata": {},
   "source": [
    "df_2 = df_1.withColumn('is_valid', validate_iban(col('iban')))"
   ]
  },
  {
   "cell_type": "code",
   "execution_count": 11,
   "metadata": {},
   "outputs": [],
   "source": [
    " # Drop rows with invalid IBANs\n",
    "df_2 = df_1.withColumn('is_valid', validate_iban(col('iban_clean')))"
   ]
  },
  {
   "cell_type": "code",
   "execution_count": 12,
   "metadata": {},
   "outputs": [
    {
     "name": "stdout",
     "output_type": "stream",
     "text": [
      "+---+-----------------------+---------------------------+----------------------+--------+\n",
      "|id |name                   |iban                       |iban_clean            |is_valid|\n",
      "+---+-----------------------+---------------------------+----------------------+--------+\n",
      "|1  |Puls Technologies      |DE89 3704 0044 0532 0130 00|DE89370400440532013000|true    |\n",
      "|2  |Widget Corp            |DE93 1001 0010 0850 8833 10|DE93100100100850883310|true    |\n",
      "|3  |Data Dynamics          |DE75 1007 0024 0944 3786 00|DE75100700240944378600|true    |\n",
      "|4  |Invalid Corp           |INVALID                    |INVALID               |false   |\n",
      "|5  |Puls Technologies      |DE89 3704 0044 0532 0130 00|DE89370400440532013000|true    |\n",
      "|6  |Widget Corp.           |DE93 1001 0010 0850 8833 10|DE93100100100850883310|true    |\n",
      "|7  |Data Dynamics Inc      |DE75 1007 0024 0944 3786 00|DE75100700240944378600|true    |\n",
      "|8  |Puls Technologies GmbH |DE89 3704 0044 0532 0130 00|DE89370400440532013000|true    |\n",
      "|9  |Advanced Analytics     |DE71 1002 0890 0027 1738 12|DE71100208900027173812|true    |\n",
      "|10 |Dynamic Data           |DE14 1007 0000 0077 2277 00|DE14100700000077227700|true    |\n",
      "|11 |Widget Corp            |DE93 1001 0010 0850 8833 10|DE93100100100850883310|true    |\n",
      "|12 |Dynamic Data           |DE14 1007 0000 0077 2277 01|DE14100700000077227701|true    |\n",
      "|13 |Puls Technologies      |DE89 3704 0044 0532 0130 01|DE89370400440532013001|true    |\n",
      "|14 |Advanced Analytics Corp|DE71 1002 0890 0027 1738 13|DE71100208900027173813|true    |\n",
      "|15 |Data Dynamics          |DE75 1007 0024 0944 3786 01|DE75100700240944378601|true    |\n",
      "|16 |Invalid Corp           |INVALID                    |INVALID               |false   |\n",
      "|17 |Puls Technologies      |DE89 3704 0044 0532 0130 02|DE89370400440532013002|true    |\n",
      "|18 |Widget Corp.           |DE93 1001 0010 0850 8833 11|DE93100100100850883311|true    |\n",
      "|19 |Data Dynamics Inc      |DE75 1007 0024 0944 3786 02|DE75100700240944378602|true    |\n",
      "|20 |Puls Technologies GmbH |DE89 3704 0044 0532 0130 03|DE89370400440532013003|true    |\n",
      "+---+-----------------------+---------------------------+----------------------+--------+\n",
      "only showing top 20 rows\n",
      "\n"
     ]
    }
   ],
   "source": [
    "df_2.show(truncate=False)"
   ]
  },
  {
   "cell_type": "code",
   "execution_count": 14,
   "metadata": {},
   "outputs": [],
   "source": [
    "  # Drop rows with invalid IBANs\n",
    "df_3 = df_2.filter(col('is_valid'))"
   ]
  },
  {
   "cell_type": "code",
   "execution_count": 15,
   "metadata": {},
   "outputs": [
    {
     "name": "stdout",
     "output_type": "stream",
     "text": [
      "+---+-----------------------+---------------------------+----------------------+--------+\n",
      "|id |name                   |iban                       |iban_clean            |is_valid|\n",
      "+---+-----------------------+---------------------------+----------------------+--------+\n",
      "|1  |Puls Technologies      |DE89 3704 0044 0532 0130 00|DE89370400440532013000|true    |\n",
      "|2  |Widget Corp            |DE93 1001 0010 0850 8833 10|DE93100100100850883310|true    |\n",
      "|3  |Data Dynamics          |DE75 1007 0024 0944 3786 00|DE75100700240944378600|true    |\n",
      "|5  |Puls Technologies      |DE89 3704 0044 0532 0130 00|DE89370400440532013000|true    |\n",
      "|6  |Widget Corp.           |DE93 1001 0010 0850 8833 10|DE93100100100850883310|true    |\n",
      "|7  |Data Dynamics Inc      |DE75 1007 0024 0944 3786 00|DE75100700240944378600|true    |\n",
      "|8  |Puls Technologies GmbH |DE89 3704 0044 0532 0130 00|DE89370400440532013000|true    |\n",
      "|9  |Advanced Analytics     |DE71 1002 0890 0027 1738 12|DE71100208900027173812|true    |\n",
      "|10 |Dynamic Data           |DE14 1007 0000 0077 2277 00|DE14100700000077227700|true    |\n",
      "|11 |Widget Corp            |DE93 1001 0010 0850 8833 10|DE93100100100850883310|true    |\n",
      "|12 |Dynamic Data           |DE14 1007 0000 0077 2277 01|DE14100700000077227701|true    |\n",
      "|13 |Puls Technologies      |DE89 3704 0044 0532 0130 01|DE89370400440532013001|true    |\n",
      "|14 |Advanced Analytics Corp|DE71 1002 0890 0027 1738 13|DE71100208900027173813|true    |\n",
      "|15 |Data Dynamics          |DE75 1007 0024 0944 3786 01|DE75100700240944378601|true    |\n",
      "|17 |Puls Technologies      |DE89 3704 0044 0532 0130 02|DE89370400440532013002|true    |\n",
      "|18 |Widget Corp.           |DE93 1001 0010 0850 8833 11|DE93100100100850883311|true    |\n",
      "|19 |Data Dynamics Inc      |DE75 1007 0024 0944 3786 02|DE75100700240944378602|true    |\n",
      "|20 |Puls Technologies GmbH |DE89 3704 0044 0532 0130 03|DE89370400440532013003|true    |\n",
      "|21 |Advanced Analytics     |DE71 1002 0890 0027 1738 14|DE71100208900027173814|true    |\n",
      "|22 |Dynamic Data           |DE14 1007 0000 0077 2277 02|DE14100700000077227702|true    |\n",
      "+---+-----------------------+---------------------------+----------------------+--------+\n",
      "only showing top 20 rows\n",
      "\n"
     ]
    }
   ],
   "source": [
    "df_3.show(truncate=False)"
   ]
  },
  {
   "cell_type": "code",
   "execution_count": 16,
   "metadata": {},
   "outputs": [],
   "source": [
    "df_3 = df_3.withColumn('bank_account', substring(col('iban_clean'), 5, 16).cast(StringType()))\n",
    "df_3 = df_3.withColumn('subaccount', substring(col('iban_clean'), 21, 2).cast(StringType()))"
   ]
  },
  {
   "cell_type": "code",
   "execution_count": 17,
   "metadata": {},
   "outputs": [
    {
     "name": "stdout",
     "output_type": "stream",
     "text": [
      "+---+-----------------------+---------------------------+----------------------+--------+----------------+----------+\n",
      "|id |name                   |iban                       |iban_clean            |is_valid|bank_account    |subaccount|\n",
      "+---+-----------------------+---------------------------+----------------------+--------+----------------+----------+\n",
      "|1  |Puls Technologies      |DE89 3704 0044 0532 0130 00|DE89370400440532013000|true    |3704004405320130|00        |\n",
      "|2  |Widget Corp            |DE93 1001 0010 0850 8833 10|DE93100100100850883310|true    |1001001008508833|10        |\n",
      "|3  |Data Dynamics          |DE75 1007 0024 0944 3786 00|DE75100700240944378600|true    |1007002409443786|00        |\n",
      "|5  |Puls Technologies      |DE89 3704 0044 0532 0130 00|DE89370400440532013000|true    |3704004405320130|00        |\n",
      "|6  |Widget Corp.           |DE93 1001 0010 0850 8833 10|DE93100100100850883310|true    |1001001008508833|10        |\n",
      "|7  |Data Dynamics Inc      |DE75 1007 0024 0944 3786 00|DE75100700240944378600|true    |1007002409443786|00        |\n",
      "|8  |Puls Technologies GmbH |DE89 3704 0044 0532 0130 00|DE89370400440532013000|true    |3704004405320130|00        |\n",
      "|9  |Advanced Analytics     |DE71 1002 0890 0027 1738 12|DE71100208900027173812|true    |1002089000271738|12        |\n",
      "|10 |Dynamic Data           |DE14 1007 0000 0077 2277 00|DE14100700000077227700|true    |1007000000772277|00        |\n",
      "|11 |Widget Corp            |DE93 1001 0010 0850 8833 10|DE93100100100850883310|true    |1001001008508833|10        |\n",
      "|12 |Dynamic Data           |DE14 1007 0000 0077 2277 01|DE14100700000077227701|true    |1007000000772277|01        |\n",
      "|13 |Puls Technologies      |DE89 3704 0044 0532 0130 01|DE89370400440532013001|true    |3704004405320130|01        |\n",
      "|14 |Advanced Analytics Corp|DE71 1002 0890 0027 1738 13|DE71100208900027173813|true    |1002089000271738|13        |\n",
      "|15 |Data Dynamics          |DE75 1007 0024 0944 3786 01|DE75100700240944378601|true    |1007002409443786|01        |\n",
      "|17 |Puls Technologies      |DE89 3704 0044 0532 0130 02|DE89370400440532013002|true    |3704004405320130|02        |\n",
      "|18 |Widget Corp.           |DE93 1001 0010 0850 8833 11|DE93100100100850883311|true    |1001001008508833|11        |\n",
      "|19 |Data Dynamics Inc      |DE75 1007 0024 0944 3786 02|DE75100700240944378602|true    |1007002409443786|02        |\n",
      "|20 |Puls Technologies GmbH |DE89 3704 0044 0532 0130 03|DE89370400440532013003|true    |3704004405320130|03        |\n",
      "|21 |Advanced Analytics     |DE71 1002 0890 0027 1738 14|DE71100208900027173814|true    |1002089000271738|14        |\n",
      "|22 |Dynamic Data           |DE14 1007 0000 0077 2277 02|DE14100700000077227702|true    |1007000000772277|02        |\n",
      "+---+-----------------------+---------------------------+----------------------+--------+----------------+----------+\n",
      "only showing top 20 rows\n",
      "\n"
     ]
    }
   ],
   "source": [
    "df_3.show(truncate=False)"
   ]
  },
  {
   "cell_type": "code",
   "execution_count": 18,
   "metadata": {},
   "outputs": [],
   "source": [
    "# accumulate the names, ibans and subaccounts\n",
    "def resolve_entities(df):\n",
    "    return df.groupBy('bank_account').agg(sort_array(collect_set('subaccount')).alias('subaccount_list'), sort_array(collect_set('name')).alias('name_list'), sort_array(collect_set('iban')).alias('iban_list'))"
   ]
  },
  {
   "cell_type": "code",
   "execution_count": 19,
   "metadata": {},
   "outputs": [],
   "source": [
    "   \n",
    "# Entity Resolution\n",
    "df_3 = resolve_entities(df_3)"
   ]
  },
  {
   "cell_type": "code",
   "execution_count": 20,
   "metadata": {},
   "outputs": [
    {
     "name": "stdout",
     "output_type": "stream",
     "text": [
      "+----------------+------------------------+---------------------------------------------+------------------------------------------------------------------------------------------------------------------------------------------------------------------------------+\n",
      "|bank_account    |subaccount_list         |name_list                                    |iban_list                                                                                                                                                                     |\n",
      "+----------------+------------------------+---------------------------------------------+------------------------------------------------------------------------------------------------------------------------------------------------------------------------------+\n",
      "|1002089000271738|[12, 13, 14, 15]        |[Advanced Analytics, Advanced Analytics Corp]|[DE71 1002 0890 0027 1738 12, DE71 1002 0890 0027 1738 13, DE71 1002 0890 0027 1738 14, DE71 1002 0890 0027 1738 15]                                                          |\n",
      "|3704004405320130|[00, 01, 02, 03, 04, 05]|[Puls Technologies, Puls Technologies GmbH]  |[DE89 3704 0044 0532 0130 00, DE89 3704 0044 0532 0130 01, DE89 3704 0044 0532 0130 02, DE89 3704 0044 0532 0130 03, DE89 3704 0044 0532 0130 04, DE89 3704 0044 0532 0130 05]|\n",
      "|1001001008508833|[10, 11, 12, 13]        |[Widget Corp, Widget Corp.]                  |[DE93 1001 0010 0850 8833 10, DE93 1001 0010 0850 8833 11, DE93 1001 0010 0850 8833 12, DE93 1001 0010 0850 8833 13]                                                          |\n",
      "|1007002409443786|[00, 01, 02, 03]        |[Data Dynamics, Data Dynamics Inc]           |[DE75 1007 0024 0944 3786 00, DE75 1007 0024 0944 3786 01, DE75 1007 0024 0944 3786 02, DE75 1007 0024 0944 3786 03]                                                          |\n",
      "|1007000000772277|[00, 01, 02, 03]        |[Dynamic Data]                               |[DE14 1007 0000 0077 2277 00, DE14 1007 0000 0077 2277 01, DE14 1007 0000 0077 2277 02, DE14 1007 0000 0077 2277 03]                                                          |\n",
      "+----------------+------------------------+---------------------------------------------+------------------------------------------------------------------------------------------------------------------------------------------------------------------------------+\n",
      "\n"
     ]
    }
   ],
   "source": [
    "df_3.show(truncate=False)   "
   ]
  },
  {
   "cell_type": "code",
   "execution_count": 21,
   "metadata": {},
   "outputs": [
    {
     "name": "stdout",
     "output_type": "stream",
     "text": [
      "root\n",
      " |-- bank_account: string (nullable = true)\n",
      " |-- subaccount_list: array (nullable = false)\n",
      " |    |-- element: string (containsNull = false)\n",
      " |-- name_list: array (nullable = false)\n",
      " |    |-- element: string (containsNull = false)\n",
      " |-- iban_list: array (nullable = false)\n",
      " |    |-- element: string (containsNull = false)\n",
      "\n"
     ]
    }
   ],
   "source": [
    "df_3.printSchema()"
   ]
  },
  {
   "cell_type": "code",
   "execution_count": 22,
   "metadata": {},
   "outputs": [],
   "source": [
    "spark.stop()"
   ]
  }
 ],
 "metadata": {
  "kernelspec": {
   "display_name": "venv",
   "language": "python",
   "name": "python3"
  },
  "language_info": {
   "codemirror_mode": {
    "name": "ipython",
    "version": 3
   },
   "file_extension": ".py",
   "mimetype": "text/x-python",
   "name": "python",
   "nbconvert_exporter": "python",
   "pygments_lexer": "ipython3",
   "version": "3.10.11"
  },
  "orig_nbformat": 4
 },
 "nbformat": 4,
 "nbformat_minor": 2
}
